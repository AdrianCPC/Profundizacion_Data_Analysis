{
  "nbformat": 4,
  "nbformat_minor": 0,
  "metadata": {
    "colab": {
      "provenance": [],
      "include_colab_link": true
    },
    "kernelspec": {
      "name": "python3",
      "display_name": "Python 3"
    },
    "language_info": {
      "name": "python"
    }
  },
  "cells": [
    {
      "cell_type": "markdown",
      "metadata": {
        "id": "view-in-github",
        "colab_type": "text"
      },
      "source": [
        "<a href=\"https://colab.research.google.com/github/AdrianCPC/Profundizacion_Data_Analysis/blob/main/Segmentos_de_Clientes.ipynb\" target=\"_parent\"><img src=\"https://colab.research.google.com/assets/colab-badge.svg\" alt=\"Open In Colab\"/></a>"
      ]
    },
    {
      "cell_type": "markdown",
      "source": [
        "# Clusterización de Datos: Segmentación de clientes\n",
        "\n",
        "En este notebook estaremos desarrollando un análisis completo de Ciencia de Datos con Machine Learning para la segmentación de clientes.\n",
        "\n",
        "De manera puntual, emplearemos una técnica de segmentación del comportamiento del cliente basada en datos conocida como RFM (Recencia o Actualidad, Frecuencia, y Valor Monetario).\n",
        "\n",
        "El dataset utilizado fue adaptado para nuestro entrenamiento, tomando como referencia un dataset de Kaggle llamado **Brazilian E-Commerce Public Dataset by Olist**.\n",
        "\n",
        "*dataset: https://www.kaggle.com/datasets/olistbr/brazilian-ecommerce*"
      ],
      "metadata": {
        "id": "Cs4s9hNN-q5y"
      }
    },
    {
      "cell_type": "markdown",
      "source": [
        "## Aula 1"
      ],
      "metadata": {
        "id": "pebzSI2m0ZiO"
      }
    },
    {
      "cell_type": "markdown",
      "source": [
        "### 1.2 Importando y explorando el dataset"
      ],
      "metadata": {
        "id": "ufIE-dZW1Jkf"
      }
    },
    {
      "cell_type": "code",
      "source": [
        "import datetime\n",
        "import numpy as np\n",
        "import pandas as pd\n",
        "import matplotlib.pyplot as plt\n",
        "import seaborn as sns"
      ],
      "metadata": {
        "id": "gKg7tSUQ0WQ8"
      },
      "execution_count": 1,
      "outputs": []
    },
    {
      "cell_type": "code",
      "source": [
        "from google.colab import drive\n",
        "drive.mount('/content/drive')"
      ],
      "metadata": {
        "colab": {
          "base_uri": "https://localhost:8080/"
        },
        "id": "H-D_Ck29_3a5",
        "outputId": "b5a705a5-1655-434f-ee87-398639990c25"
      },
      "execution_count": 2,
      "outputs": [
        {
          "output_type": "stream",
          "name": "stdout",
          "text": [
            "Mounted at /content/drive\n"
          ]
        }
      ]
    },
    {
      "cell_type": "code",
      "source": [
        "df = pd.read_csv('/content/drive/MyDrive/e_commerce.csv')"
      ],
      "metadata": {
        "id": "xGyvktZG2MRG"
      },
      "execution_count": 3,
      "outputs": []
    },
    {
      "cell_type": "code",
      "source": [
        "df.info()"
      ],
      "metadata": {
        "id": "nb6qMsIh2MZs",
        "colab": {
          "base_uri": "https://localhost:8080/"
        },
        "outputId": "86272436-f8c0-4d4a-9685-ecf78ad0508d"
      },
      "execution_count": 4,
      "outputs": [
        {
          "output_type": "stream",
          "name": "stdout",
          "text": [
            "<class 'pandas.core.frame.DataFrame'>\n",
            "RangeIndex: 116581 entries, 0 to 116580\n",
            "Data columns (total 26 columns):\n",
            " #   Column             Non-Null Count   Dtype  \n",
            "---  ------             --------------   -----  \n",
            " 0   muestra            116581 non-null  int64  \n",
            " 1   id_cliente         116581 non-null  object \n",
            " 2   id_unico_cliente   116581 non-null  object \n",
            " 3   item_id            116581 non-null  int64  \n",
            " 4   cp_cliente         116581 non-null  int64  \n",
            " 5   ciudad_cliente     116581 non-null  object \n",
            " 6   estado_cliente     116581 non-null  object \n",
            " 7   id_pedido          116581 non-null  object \n",
            " 8   status_pedido      116581 non-null  object \n",
            " 9   horario_pedido     116581 non-null  object \n",
            " 10  pedido_aprobado    116567 non-null  object \n",
            " 11  pedido_entregador  115368 non-null  object \n",
            " 12  pedido_entregado   114066 non-null  object \n",
            " 13  fecha_estimada     116581 non-null  object \n",
            " 14  id_vendedor        116581 non-null  object \n",
            " 15  precio             116581 non-null  float64\n",
            " 16  precio_envio       116581 non-null  float64\n",
            " 17  pago_secuencial    116581 non-null  int64  \n",
            " 18  pago_tipo          116581 non-null  object \n",
            " 19  pago_cuotas        116581 non-null  int64  \n",
            " 20  pago_valor         116581 non-null  float64\n",
            " 21  review             116581 non-null  int64  \n",
            " 22  categoria          116581 non-null  object \n",
            " 23  cp_vendedor        116581 non-null  int64  \n",
            " 24  ciudad_vendedor    116581 non-null  object \n",
            " 25  estado_vendedor    116581 non-null  object \n",
            "dtypes: float64(3), int64(7), object(16)\n",
            "memory usage: 23.1+ MB\n"
          ]
        }
      ]
    },
    {
      "cell_type": "markdown",
      "source": [
        "### 1.2.1 Columnas y Descripción"
      ],
      "metadata": {
        "id": "KSLsa79X4OwZ"
      }
    },
    {
      "cell_type": "markdown",
      "source": [
        "**muestra**: Numeración creciente de los datos.\n",
        "\n",
        "**id_cliente**: Número de identificación del cliente que realiza la compra.\n",
        "\n",
        "**id_unico_cliente**: Número único para cada cliente en función de su dirección IP, independiente de la compra.\n",
        "\n",
        "**item_id**: Número de identificación del item comprado.\n",
        "\n",
        "**cp_cliente**: Código postal del cliente.\n",
        "\n",
        "**ciudad_cliente**: Ciudad donde se realizó el pedido.\n",
        "\n",
        "**estado_cliente**: Estado donde se realizó el pedido.\n",
        "\n",
        "**id_pedido**: Número de identificación de la compra.\n",
        "\n",
        "**status_pedido**: Status del pedido (Ej. Entregado, facturado, procesando, etc).\n",
        "\n",
        "**horario_pedido**: Fecha y hora en la cual se realizó el pedido.\n",
        "\n",
        "**pedido_aprobado**: Fecha y hora en la cual se aprobó el pedido.  \n",
        "**pedido_entregador**: Fecha y hora en la cual se hizo entrega del pedido a la empresa transportadora.  \n",
        "\n",
        "**pedido_entregado**:Fecha y hora en la cual se hizo entrega del pedido al cliente.\n",
        "\n",
        "**fecha_estimada**:Fecha y hora estimada de entrega.\n",
        "\n",
        "**id_vendedor**: Número de identificación del vendedor.\n",
        "\n",
        "**precio**: Precio del producto.\n",
        "\n",
        "**precio_envio**: Precio del envío.\n",
        "\n",
        "**pago_secuencial**: Compra en la cual el cliente solicita más de una forma de pago (Ej. Crédito y débito, etc).\n",
        "\n",
        "**pago_tipo**: Método de pago (Ej. factura, débito, voucher).\n",
        "\n",
        "**pago_cuotas**: Número de cuotas escogido por el cliente para realizar el pago.\n",
        "\n",
        "**pago_valor**: Valor total pago.\n",
        "\n",
        "**review**: Nota que el consumidor da a todo el proceso.\n",
        "\n",
        "**categoria**: Categoría del item comprado.\n",
        "\n",
        "**cp_vendedor**: Código postal del vendedor.\n",
        "\n",
        "**ciudad_vendedor**: Ciudad del vendedor.\n",
        "\n",
        "**estado_vendedor**: Estado del vendedor."
      ],
      "metadata": {
        "id": "Ix081I4619RJ"
      }
    },
    {
      "cell_type": "code",
      "source": [
        "df.sample(5)"
      ],
      "metadata": {
        "id": "f-X51p_Z-lr4",
        "colab": {
          "base_uri": "https://localhost:8080/",
          "height": 386
        },
        "outputId": "80ca55bf-3a46-4e1a-9b15-e70608600652"
      },
      "execution_count": 5,
      "outputs": [
        {
          "output_type": "execute_result",
          "data": {
            "text/plain": [
              "        muestra                        id_cliente  \\\n",
              "107996   107996  0531af5b48d3d60dbd7e5c7f5e754750   \n",
              "8858       8858  c323fba17fa4817ccde3421f15ddb84c   \n",
              "63368     63368  2e20f2c736dfd3f5fddfed7758bfd1cf   \n",
              "67055     67055  5f80c8ac8d4c620ad6bcc698b80f8358   \n",
              "69964     69964  38563843fdf71adbd87b421a7932d94e   \n",
              "\n",
              "                        id_unico_cliente  item_id  cp_cliente ciudad_cliente  \\\n",
              "107996  4562d0a42031990b876a6ff189d97db9        1       19940         bogota   \n",
              "8858    7f5fd61b2f13adf2fefdf8285ad8ef5e        1       40280   barranquilla   \n",
              "63368   237e7ea904440e925e22f84fdfaa8e55        1       62400         cucuta   \n",
              "67055   289e1d1ce11a14bb169775d58ad2f1c2        1       47850   barranquilla   \n",
              "69964   947c372f66d25d40cae52ba1a9fe45e6        1       36970           cali   \n",
              "\n",
              "       estado_cliente                         id_pedido status_pedido  \\\n",
              "107996             DC  c0ed812b599ef187f8d89f8723dda7e8     entregado   \n",
              "8858              ATL  62556744f37b7cf57d9128e264b4b733     entregado   \n",
              "63368             NSA  f6165d8d9da67968c00f198d4b053690     entregado   \n",
              "67055             ATL  7bab8fdc27c8cc367c51bb3c4f8bcc42     entregado   \n",
              "69964             VAC  ad1c343f53639ad550761c2653c191b0     entregado   \n",
              "\n",
              "             horario_pedido  ... precio_envio pago_secuencial pago_tipo  \\\n",
              "107996  2018-01-04 14:42:04  ...        14.03               1   credito   \n",
              "8858    2017-11-25 11:31:54  ...        17.14               1   credito   \n",
              "63368   2017-07-12 14:45:54  ...        28.78               1   credito   \n",
              "67055   2018-03-02 19:29:10  ...        18.34               1   credito   \n",
              "69964   2018-08-08 10:04:29  ...        42.03               1   credito   \n",
              "\n",
              "       pago_cuotas pago_valor  review              categoria  cp_vendedor  \\\n",
              "107996          10     159.02       4         articulos_cool         3426   \n",
              "8858             1     117.14       4  consolas_video_juegos        38440   \n",
              "63368            5     528.68       5               juguetes         4367   \n",
              "67055           10     128.24       5                  bebes         3087   \n",
              "69964            3     192.03       5      casa_construccion         3204   \n",
              "\n",
              "       ciudad_vendedor  estado_vendedor  \n",
              "107996          bogota               DC  \n",
              "8858           pereira              RIS  \n",
              "63368           bogota               DC  \n",
              "67055           bogota               DC  \n",
              "69964           bogota               DC  \n",
              "\n",
              "[5 rows x 26 columns]"
            ],
            "text/html": [
              "\n",
              "\n",
              "  <div id=\"df-0882f791-d136-487e-b918-61fce3298116\">\n",
              "    <div class=\"colab-df-container\">\n",
              "      <div>\n",
              "<style scoped>\n",
              "    .dataframe tbody tr th:only-of-type {\n",
              "        vertical-align: middle;\n",
              "    }\n",
              "\n",
              "    .dataframe tbody tr th {\n",
              "        vertical-align: top;\n",
              "    }\n",
              "\n",
              "    .dataframe thead th {\n",
              "        text-align: right;\n",
              "    }\n",
              "</style>\n",
              "<table border=\"1\" class=\"dataframe\">\n",
              "  <thead>\n",
              "    <tr style=\"text-align: right;\">\n",
              "      <th></th>\n",
              "      <th>muestra</th>\n",
              "      <th>id_cliente</th>\n",
              "      <th>id_unico_cliente</th>\n",
              "      <th>item_id</th>\n",
              "      <th>cp_cliente</th>\n",
              "      <th>ciudad_cliente</th>\n",
              "      <th>estado_cliente</th>\n",
              "      <th>id_pedido</th>\n",
              "      <th>status_pedido</th>\n",
              "      <th>horario_pedido</th>\n",
              "      <th>...</th>\n",
              "      <th>precio_envio</th>\n",
              "      <th>pago_secuencial</th>\n",
              "      <th>pago_tipo</th>\n",
              "      <th>pago_cuotas</th>\n",
              "      <th>pago_valor</th>\n",
              "      <th>review</th>\n",
              "      <th>categoria</th>\n",
              "      <th>cp_vendedor</th>\n",
              "      <th>ciudad_vendedor</th>\n",
              "      <th>estado_vendedor</th>\n",
              "    </tr>\n",
              "  </thead>\n",
              "  <tbody>\n",
              "    <tr>\n",
              "      <th>107996</th>\n",
              "      <td>107996</td>\n",
              "      <td>0531af5b48d3d60dbd7e5c7f5e754750</td>\n",
              "      <td>4562d0a42031990b876a6ff189d97db9</td>\n",
              "      <td>1</td>\n",
              "      <td>19940</td>\n",
              "      <td>bogota</td>\n",
              "      <td>DC</td>\n",
              "      <td>c0ed812b599ef187f8d89f8723dda7e8</td>\n",
              "      <td>entregado</td>\n",
              "      <td>2018-01-04 14:42:04</td>\n",
              "      <td>...</td>\n",
              "      <td>14.03</td>\n",
              "      <td>1</td>\n",
              "      <td>credito</td>\n",
              "      <td>10</td>\n",
              "      <td>159.02</td>\n",
              "      <td>4</td>\n",
              "      <td>articulos_cool</td>\n",
              "      <td>3426</td>\n",
              "      <td>bogota</td>\n",
              "      <td>DC</td>\n",
              "    </tr>\n",
              "    <tr>\n",
              "      <th>8858</th>\n",
              "      <td>8858</td>\n",
              "      <td>c323fba17fa4817ccde3421f15ddb84c</td>\n",
              "      <td>7f5fd61b2f13adf2fefdf8285ad8ef5e</td>\n",
              "      <td>1</td>\n",
              "      <td>40280</td>\n",
              "      <td>barranquilla</td>\n",
              "      <td>ATL</td>\n",
              "      <td>62556744f37b7cf57d9128e264b4b733</td>\n",
              "      <td>entregado</td>\n",
              "      <td>2017-11-25 11:31:54</td>\n",
              "      <td>...</td>\n",
              "      <td>17.14</td>\n",
              "      <td>1</td>\n",
              "      <td>credito</td>\n",
              "      <td>1</td>\n",
              "      <td>117.14</td>\n",
              "      <td>4</td>\n",
              "      <td>consolas_video_juegos</td>\n",
              "      <td>38440</td>\n",
              "      <td>pereira</td>\n",
              "      <td>RIS</td>\n",
              "    </tr>\n",
              "    <tr>\n",
              "      <th>63368</th>\n",
              "      <td>63368</td>\n",
              "      <td>2e20f2c736dfd3f5fddfed7758bfd1cf</td>\n",
              "      <td>237e7ea904440e925e22f84fdfaa8e55</td>\n",
              "      <td>1</td>\n",
              "      <td>62400</td>\n",
              "      <td>cucuta</td>\n",
              "      <td>NSA</td>\n",
              "      <td>f6165d8d9da67968c00f198d4b053690</td>\n",
              "      <td>entregado</td>\n",
              "      <td>2017-07-12 14:45:54</td>\n",
              "      <td>...</td>\n",
              "      <td>28.78</td>\n",
              "      <td>1</td>\n",
              "      <td>credito</td>\n",
              "      <td>5</td>\n",
              "      <td>528.68</td>\n",
              "      <td>5</td>\n",
              "      <td>juguetes</td>\n",
              "      <td>4367</td>\n",
              "      <td>bogota</td>\n",
              "      <td>DC</td>\n",
              "    </tr>\n",
              "    <tr>\n",
              "      <th>67055</th>\n",
              "      <td>67055</td>\n",
              "      <td>5f80c8ac8d4c620ad6bcc698b80f8358</td>\n",
              "      <td>289e1d1ce11a14bb169775d58ad2f1c2</td>\n",
              "      <td>1</td>\n",
              "      <td>47850</td>\n",
              "      <td>barranquilla</td>\n",
              "      <td>ATL</td>\n",
              "      <td>7bab8fdc27c8cc367c51bb3c4f8bcc42</td>\n",
              "      <td>entregado</td>\n",
              "      <td>2018-03-02 19:29:10</td>\n",
              "      <td>...</td>\n",
              "      <td>18.34</td>\n",
              "      <td>1</td>\n",
              "      <td>credito</td>\n",
              "      <td>10</td>\n",
              "      <td>128.24</td>\n",
              "      <td>5</td>\n",
              "      <td>bebes</td>\n",
              "      <td>3087</td>\n",
              "      <td>bogota</td>\n",
              "      <td>DC</td>\n",
              "    </tr>\n",
              "    <tr>\n",
              "      <th>69964</th>\n",
              "      <td>69964</td>\n",
              "      <td>38563843fdf71adbd87b421a7932d94e</td>\n",
              "      <td>947c372f66d25d40cae52ba1a9fe45e6</td>\n",
              "      <td>1</td>\n",
              "      <td>36970</td>\n",
              "      <td>cali</td>\n",
              "      <td>VAC</td>\n",
              "      <td>ad1c343f53639ad550761c2653c191b0</td>\n",
              "      <td>entregado</td>\n",
              "      <td>2018-08-08 10:04:29</td>\n",
              "      <td>...</td>\n",
              "      <td>42.03</td>\n",
              "      <td>1</td>\n",
              "      <td>credito</td>\n",
              "      <td>3</td>\n",
              "      <td>192.03</td>\n",
              "      <td>5</td>\n",
              "      <td>casa_construccion</td>\n",
              "      <td>3204</td>\n",
              "      <td>bogota</td>\n",
              "      <td>DC</td>\n",
              "    </tr>\n",
              "  </tbody>\n",
              "</table>\n",
              "<p>5 rows × 26 columns</p>\n",
              "</div>\n",
              "      <button class=\"colab-df-convert\" onclick=\"convertToInteractive('df-0882f791-d136-487e-b918-61fce3298116')\"\n",
              "              title=\"Convert this dataframe to an interactive table.\"\n",
              "              style=\"display:none;\">\n",
              "\n",
              "  <svg xmlns=\"http://www.w3.org/2000/svg\" height=\"24px\"viewBox=\"0 0 24 24\"\n",
              "       width=\"24px\">\n",
              "    <path d=\"M0 0h24v24H0V0z\" fill=\"none\"/>\n",
              "    <path d=\"M18.56 5.44l.94 2.06.94-2.06 2.06-.94-2.06-.94-.94-2.06-.94 2.06-2.06.94zm-11 1L8.5 8.5l.94-2.06 2.06-.94-2.06-.94L8.5 2.5l-.94 2.06-2.06.94zm10 10l.94 2.06.94-2.06 2.06-.94-2.06-.94-.94-2.06-.94 2.06-2.06.94z\"/><path d=\"M17.41 7.96l-1.37-1.37c-.4-.4-.92-.59-1.43-.59-.52 0-1.04.2-1.43.59L10.3 9.45l-7.72 7.72c-.78.78-.78 2.05 0 2.83L4 21.41c.39.39.9.59 1.41.59.51 0 1.02-.2 1.41-.59l7.78-7.78 2.81-2.81c.8-.78.8-2.07 0-2.86zM5.41 20L4 18.59l7.72-7.72 1.47 1.35L5.41 20z\"/>\n",
              "  </svg>\n",
              "      </button>\n",
              "\n",
              "\n",
              "\n",
              "    <div id=\"df-cc07cd95-f197-4fb3-8a00-240ac9875b84\">\n",
              "      <button class=\"colab-df-quickchart\" onclick=\"quickchart('df-cc07cd95-f197-4fb3-8a00-240ac9875b84')\"\n",
              "              title=\"Suggest charts.\"\n",
              "              style=\"display:none;\">\n",
              "\n",
              "<svg xmlns=\"http://www.w3.org/2000/svg\" height=\"24px\"viewBox=\"0 0 24 24\"\n",
              "     width=\"24px\">\n",
              "    <g>\n",
              "        <path d=\"M19 3H5c-1.1 0-2 .9-2 2v14c0 1.1.9 2 2 2h14c1.1 0 2-.9 2-2V5c0-1.1-.9-2-2-2zM9 17H7v-7h2v7zm4 0h-2V7h2v10zm4 0h-2v-4h2v4z\"/>\n",
              "    </g>\n",
              "</svg>\n",
              "      </button>\n",
              "    </div>\n",
              "\n",
              "<style>\n",
              "  .colab-df-quickchart {\n",
              "    background-color: #E8F0FE;\n",
              "    border: none;\n",
              "    border-radius: 50%;\n",
              "    cursor: pointer;\n",
              "    display: none;\n",
              "    fill: #1967D2;\n",
              "    height: 32px;\n",
              "    padding: 0 0 0 0;\n",
              "    width: 32px;\n",
              "  }\n",
              "\n",
              "  .colab-df-quickchart:hover {\n",
              "    background-color: #E2EBFA;\n",
              "    box-shadow: 0px 1px 2px rgba(60, 64, 67, 0.3), 0px 1px 3px 1px rgba(60, 64, 67, 0.15);\n",
              "    fill: #174EA6;\n",
              "  }\n",
              "\n",
              "  [theme=dark] .colab-df-quickchart {\n",
              "    background-color: #3B4455;\n",
              "    fill: #D2E3FC;\n",
              "  }\n",
              "\n",
              "  [theme=dark] .colab-df-quickchart:hover {\n",
              "    background-color: #434B5C;\n",
              "    box-shadow: 0px 1px 3px 1px rgba(0, 0, 0, 0.15);\n",
              "    filter: drop-shadow(0px 1px 2px rgba(0, 0, 0, 0.3));\n",
              "    fill: #FFFFFF;\n",
              "  }\n",
              "</style>\n",
              "\n",
              "    <script>\n",
              "      async function quickchart(key) {\n",
              "        const containerElement = document.querySelector('#' + key);\n",
              "        const charts = await google.colab.kernel.invokeFunction(\n",
              "            'suggestCharts', [key], {});\n",
              "      }\n",
              "    </script>\n",
              "\n",
              "      <script>\n",
              "\n",
              "function displayQuickchartButton(domScope) {\n",
              "  let quickchartButtonEl =\n",
              "    domScope.querySelector('#df-cc07cd95-f197-4fb3-8a00-240ac9875b84 button.colab-df-quickchart');\n",
              "  quickchartButtonEl.style.display =\n",
              "    google.colab.kernel.accessAllowed ? 'block' : 'none';\n",
              "}\n",
              "\n",
              "        displayQuickchartButton(document);\n",
              "      </script>\n",
              "      <style>\n",
              "    .colab-df-container {\n",
              "      display:flex;\n",
              "      flex-wrap:wrap;\n",
              "      gap: 12px;\n",
              "    }\n",
              "\n",
              "    .colab-df-convert {\n",
              "      background-color: #E8F0FE;\n",
              "      border: none;\n",
              "      border-radius: 50%;\n",
              "      cursor: pointer;\n",
              "      display: none;\n",
              "      fill: #1967D2;\n",
              "      height: 32px;\n",
              "      padding: 0 0 0 0;\n",
              "      width: 32px;\n",
              "    }\n",
              "\n",
              "    .colab-df-convert:hover {\n",
              "      background-color: #E2EBFA;\n",
              "      box-shadow: 0px 1px 2px rgba(60, 64, 67, 0.3), 0px 1px 3px 1px rgba(60, 64, 67, 0.15);\n",
              "      fill: #174EA6;\n",
              "    }\n",
              "\n",
              "    [theme=dark] .colab-df-convert {\n",
              "      background-color: #3B4455;\n",
              "      fill: #D2E3FC;\n",
              "    }\n",
              "\n",
              "    [theme=dark] .colab-df-convert:hover {\n",
              "      background-color: #434B5C;\n",
              "      box-shadow: 0px 1px 3px 1px rgba(0, 0, 0, 0.15);\n",
              "      filter: drop-shadow(0px 1px 2px rgba(0, 0, 0, 0.3));\n",
              "      fill: #FFFFFF;\n",
              "    }\n",
              "  </style>\n",
              "\n",
              "      <script>\n",
              "        const buttonEl =\n",
              "          document.querySelector('#df-0882f791-d136-487e-b918-61fce3298116 button.colab-df-convert');\n",
              "        buttonEl.style.display =\n",
              "          google.colab.kernel.accessAllowed ? 'block' : 'none';\n",
              "\n",
              "        async function convertToInteractive(key) {\n",
              "          const element = document.querySelector('#df-0882f791-d136-487e-b918-61fce3298116');\n",
              "          const dataTable =\n",
              "            await google.colab.kernel.invokeFunction('convertToInteractive',\n",
              "                                                     [key], {});\n",
              "          if (!dataTable) return;\n",
              "\n",
              "          const docLinkHtml = 'Like what you see? Visit the ' +\n",
              "            '<a target=\"_blank\" href=https://colab.research.google.com/notebooks/data_table.ipynb>data table notebook</a>'\n",
              "            + ' to learn more about interactive tables.';\n",
              "          element.innerHTML = '';\n",
              "          dataTable['output_type'] = 'display_data';\n",
              "          await google.colab.output.renderOutput(dataTable, element);\n",
              "          const docLink = document.createElement('div');\n",
              "          docLink.innerHTML = docLinkHtml;\n",
              "          element.appendChild(docLink);\n",
              "        }\n",
              "      </script>\n",
              "    </div>\n",
              "  </div>\n"
            ]
          },
          "metadata": {},
          "execution_count": 5
        }
      ]
    },
    {
      "cell_type": "markdown",
      "source": [
        "### 1.3 Análisis exploratorio de los datos"
      ],
      "metadata": {
        "id": "rM7YHCXC0OSD"
      }
    },
    {
      "cell_type": "code",
      "source": [
        "def plot_porcentajes(estado,datos):\n",
        "  plt.figure(figsize=(20,8))\n",
        "  grafico = sns.countplot(x=estado,data=datos,orient='h')\n",
        "  grafico.set_ylabel('Conteo', fontsize=17)\n",
        "\n",
        "  sizes = []\n",
        "\n",
        "  for p in grafico.patches:\n",
        "    height = p.get_height()\n",
        "    sizes.append(height)\n",
        "    grafico.text(p.get_x() + p.get_width()/1.6, height+200, f'{round(height/len(datos)*100,2)}%',ha='center', va='bottom', fontsize=12)\n",
        "    grafico.set_ylim(0,max(sizes)*1.1)"
      ],
      "metadata": {
        "id": "iGkmFQeM2FKO"
      },
      "execution_count": 14,
      "outputs": []
    },
    {
      "cell_type": "code",
      "source": [
        "plot_porcentajes('estado_cliente',df)"
      ],
      "metadata": {
        "id": "V_86OWAf2FR1",
        "colab": {
          "base_uri": "https://localhost:8080/",
          "height": 529
        },
        "outputId": "f37fb922-cda8-4409-8d73-f4e146ab80e2"
      },
      "execution_count": 15,
      "outputs": [
        {
          "output_type": "display_data",
          "data": {
            "text/plain": [
              "<Figure size 2000x800 with 1 Axes>"
            ],
            "image/png": "[encoded data removed]"
          },
          "metadata": {}
        }
      ]
    },
    {
      "cell_type": "code",
      "source": [
        "plot_porcentajes('estado_vendedor',df)"
      ],
      "metadata": {
        "id": "5U3bZfYf2FyW",
        "colab": {
          "base_uri": "https://localhost:8080/",
          "height": 530
        },
        "outputId": "96c41f34-b76e-4e99-a1ee-c4ad971bc232"
      },
      "execution_count": 16,
      "outputs": [
        {
          "output_type": "display_data",
          "data": {
            "text/plain": [
              "<Figure size 2000x800 with 1 Axes>"
            ],
            "image/png": "[encoded data removed]"
          },
          "metadata": {}
        }
      ]
    },
    {
      "cell_type": "code",
      "source": [
        "plot_porcentajes('pago_tipo',df)"
      ],
      "metadata": {
        "colab": {
          "base_uri": "https://localhost:8080/",
          "height": 530
        },
        "id": "XDaVaE52FdPN",
        "outputId": "9fbd2b1a-e034-45d9-c765-e52c390251a3"
      },
      "execution_count": 17,
      "outputs": [
        {
          "output_type": "display_data",
          "data": {
            "text/plain": [
              "<Figure size 2000x800 with 1 Axes>"
            ],
            "image/png": "[encoded data removed]"
          },
          "metadata": {}
        }
      ]
    },
    {
      "cell_type": "markdown",
      "source": [
        "Lo que aprendimos en esta aula:\n",
        "\n",
        "Cuáles son las principales etapas en un problema de segmentación;\n",
        "\n",
        "Qué tipo de datos necesitamos obtener;\n",
        "\n",
        "Cómo el análisis exploratorio nos ayuda a identificar insights;\n",
        "\n",
        "Cómo añadir textos informativos a los gráficos."
      ],
      "metadata": {
        "id": "ImyEdNaMGMSY"
      }
    },
    {
      "cell_type": "markdown",
      "source": [
        "## Aula 2"
      ],
      "metadata": {
        "id": "-3K5G6fW2P0u"
      }
    },
    {
      "cell_type": "markdown",
      "source": [
        "### 2.1 Modelo RFM"
      ],
      "metadata": {
        "id": "ERl1lwOo2Sgb"
      }
    },
    {
      "cell_type": "markdown",
      "source": [
        "#### **Recencia (R)**\n",
        "##### ¿Hace cuántos días fue la última compra que realizó este cliente?\n",
        "\n",
        "#### **Frecuencia (F)**\n",
        "##### ¿Cuántas compras este cliente hizo en tu empresa, desde que se registró?\n",
        "\n",
        "#### **Valor Monetario (M)**\n",
        "##### ¿Cuánto dinero este cliente ya gastó en tu empresa?"
      ],
      "metadata": {
        "id": "DvWpE12x2pkw"
      }
    },
    {
      "cell_type": "code",
      "source": [],
      "metadata": {
        "id": "udF6KDZJ2ZfC"
      },
      "execution_count": null,
      "outputs": []
    },
    {
      "cell_type": "code",
      "source": [],
      "metadata": {
        "id": "LxsEV7tY47YH"
      },
      "execution_count": null,
      "outputs": []
    },
    {
      "cell_type": "code",
      "source": [],
      "metadata": {
        "id": "fy07EYB_47cV"
      },
      "execution_count": null,
      "outputs": []
    },
    {
      "cell_type": "markdown",
      "source": [
        "### 2.2 Regla del codo"
      ],
      "metadata": {
        "id": "OcYNbjsa5CS1"
      }
    },
    {
      "cell_type": "markdown",
      "source": [
        "Ahora, necesitamos usar el Método del Codo, la idea es ejecutar el algoritmo KMeans para varias cantidades diferentes de clusters y así poder determinar el número ideal de clusters.\n",
        "\n",
        "A medida que aumentamos el número de clusters con KMeans, las diferencias entre los diversos clusters disminuyen y las diferencias por dentro de los clusters van aumentando. Entonces, debemos hallar un equilibrio de modo que las observaciones que conforman cada agrupación sean lo más homogéneas posible y que las diversas agrupaciones se puedan diferenciar entre sí."
      ],
      "metadata": {
        "id": "DSm9sEUk5P3u"
      }
    },
    {
      "cell_type": "markdown",
      "source": [
        "### 2.3 Codificando la Regla del Codo"
      ],
      "metadata": {
        "id": "BFjNLajD-Dvq"
      }
    },
    {
      "cell_type": "code",
      "source": [],
      "metadata": {
        "id": "dqRCJ-cI-DQH"
      },
      "execution_count": null,
      "outputs": []
    },
    {
      "cell_type": "code",
      "source": [],
      "metadata": {
        "id": "zKufmBTY5MYV"
      },
      "execution_count": null,
      "outputs": []
    },
    {
      "cell_type": "code",
      "source": [],
      "metadata": {
        "id": "vegQFGvA5Mhw"
      },
      "execution_count": null,
      "outputs": []
    },
    {
      "cell_type": "markdown",
      "source": [
        "### 2.4 Regla Matemática"
      ],
      "metadata": {
        "id": "WyEJOFr6-WOQ"
      }
    },
    {
      "cell_type": "markdown",
      "source": [
        "¿Cómo podemos identificar si el mejor número de clusters es 3, 4 o 5?\n",
        "\n",
        "¡Existe una solución matemática!\n",
        "\n",
        "\n",
        "\n",
        "> ![](https://miro.medium.com/max/2775/1*9J7Wnh5L0eIcHXBeWlzvNA.png)\n",
        "\n",
        "\n",
        "Lo primero que debemos hacer, es definir una recta conectando el primer punto (cluster 1) al último punto (cluster 9).\n",
        "\n",
        "En este caso, P0 es el punto del cluster 1 y P1 es el punto del cluster 9. El par (x,y) representa las coordenadas de cualquier punto desde el cual deseemos  calcular la distancia hasta la recta. Calculando todas las distancias, lograremos determinar el punto que indica el número ideal de clusters."
      ],
      "metadata": {
        "id": "9Naj2zBDAWV2"
      }
    },
    {
      "cell_type": "markdown",
      "source": [
        "### 2.5 Codificando la Regla Matemática"
      ],
      "metadata": {
        "id": "HpRa_DdDDsB2"
      }
    },
    {
      "cell_type": "code",
      "source": [],
      "metadata": {
        "id": "A-f0qRiWAccP"
      },
      "execution_count": null,
      "outputs": []
    },
    {
      "cell_type": "code",
      "source": [],
      "metadata": {
        "id": "NXxfu8I3Acks"
      },
      "execution_count": null,
      "outputs": []
    },
    {
      "cell_type": "code",
      "source": [],
      "metadata": {
        "id": "Ow_9XbyvAcwG"
      },
      "execution_count": null,
      "outputs": []
    },
    {
      "cell_type": "markdown",
      "source": [
        "## Aula 3"
      ],
      "metadata": {
        "id": "WsqJaPafEBvb"
      }
    },
    {
      "cell_type": "markdown",
      "source": [
        "### 3.1 Clusterizando la Recencia"
      ],
      "metadata": {
        "id": "hCbGgwnPEKfT"
      }
    },
    {
      "cell_type": "code",
      "source": [],
      "metadata": {
        "id": "dH4qU53OElSv"
      },
      "execution_count": null,
      "outputs": []
    },
    {
      "cell_type": "code",
      "source": [],
      "metadata": {
        "id": "kebWVGIhElVI"
      },
      "execution_count": null,
      "outputs": []
    },
    {
      "cell_type": "code",
      "source": [],
      "metadata": {
        "id": "nVNqOlrpElXt"
      },
      "execution_count": null,
      "outputs": []
    },
    {
      "cell_type": "markdown",
      "source": [
        "### 3.2 Clusterizando la Frecuencia"
      ],
      "metadata": {
        "id": "4_bfcgiSEnXl"
      }
    },
    {
      "cell_type": "code",
      "source": [],
      "metadata": {
        "id": "4-_owH_VElbF"
      },
      "execution_count": null,
      "outputs": []
    },
    {
      "cell_type": "code",
      "source": [],
      "metadata": {
        "id": "T1mWCPo3EuF1"
      },
      "execution_count": null,
      "outputs": []
    },
    {
      "cell_type": "code",
      "source": [],
      "metadata": {
        "id": "TNz0dE4aEuJc"
      },
      "execution_count": null,
      "outputs": []
    },
    {
      "cell_type": "markdown",
      "source": [
        "### 3.3 Clusterizando el Valor Monetario (Ingresos)"
      ],
      "metadata": {
        "id": "Ova3cH6QEujL"
      }
    },
    {
      "cell_type": "code",
      "source": [],
      "metadata": {
        "id": "Jw8uGspnFRPx"
      },
      "execution_count": null,
      "outputs": []
    },
    {
      "cell_type": "code",
      "source": [],
      "metadata": {
        "id": "Tjb-5OhwFRSe"
      },
      "execution_count": null,
      "outputs": []
    },
    {
      "cell_type": "code",
      "source": [],
      "metadata": {
        "id": "bQ0CaW86FRdf"
      },
      "execution_count": null,
      "outputs": []
    },
    {
      "cell_type": "markdown",
      "source": [
        "## Aula 4"
      ],
      "metadata": {
        "id": "x4NfS6DNFRyo"
      }
    },
    {
      "cell_type": "markdown",
      "source": [
        "### 4.1 Creando la puntuación"
      ],
      "metadata": {
        "id": "6mF5OMwGFTuu"
      }
    },
    {
      "cell_type": "code",
      "source": [],
      "metadata": {
        "id": "UIlD8kvgFlfC"
      },
      "execution_count": null,
      "outputs": []
    },
    {
      "cell_type": "code",
      "source": [],
      "metadata": {
        "id": "ZAThR7ReFlhv"
      },
      "execution_count": null,
      "outputs": []
    },
    {
      "cell_type": "code",
      "source": [],
      "metadata": {
        "id": "-3kNF6iKFlka"
      },
      "execution_count": null,
      "outputs": []
    },
    {
      "cell_type": "markdown",
      "source": [
        "### 4.2 Análisis visual de los resultados"
      ],
      "metadata": {
        "id": "RtO2IpGDFmpY"
      }
    },
    {
      "cell_type": "code",
      "source": [],
      "metadata": {
        "id": "GftxrZ3WGEMa"
      },
      "execution_count": null,
      "outputs": []
    },
    {
      "cell_type": "code",
      "source": [],
      "metadata": {
        "id": "lQhEdPXOGEPg"
      },
      "execution_count": null,
      "outputs": []
    },
    {
      "cell_type": "code",
      "source": [],
      "metadata": {
        "id": "oepSAXfkGER4"
      },
      "execution_count": null,
      "outputs": []
    }
  ]
}