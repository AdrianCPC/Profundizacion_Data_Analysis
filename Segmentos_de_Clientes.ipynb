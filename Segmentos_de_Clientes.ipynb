{
  "nbformat": 4,
  "nbformat_minor": 0,
  "metadata": {
    "colab": {
      "provenance": [],
      "include_colab_link": true
    },
    "kernelspec": {
      "name": "python3",
      "display_name": "Python 3"
    },
    "language_info": {
      "name": "python"
    }
  },
  "cells": [
    {
      "cell_type": "markdown",
      "metadata": {
        "id": "view-in-github",
        "colab_type": "text"
      },
      "source": [
        "<a href=\"https://colab.research.google.com/github/AdrianCPC/Profundizacion_Data_Analysis/blob/main/Segmentos_de_Clientes.ipynb\" target=\"_parent\"><img src=\"https://colab.research.google.com/assets/colab-badge.svg\" alt=\"Open In Colab\"/></a>"
      ]
    },
    {
      "cell_type": "markdown",
      "source": [
        "# Clusterización de Datos: Segmentación de clientes\n",
        "\n",
        "En este notebook estaremos desarrollando un análisis completo de Ciencia de Datos con Machine Learning para la segmentación de clientes.\n",
        "\n",
        "De manera puntual, emplearemos una técnica de segmentación del comportamiento del cliente basada en datos conocida como RFM (Recencia o Actualidad, Frecuencia, y Valor Monetario).\n",
        "\n",
        "El dataset utilizado fue adaptado para nuestro entrenamiento, tomando como referencia un dataset de Kaggle llamado **Brazilian E-Commerce Public Dataset by Olist**.\n",
        "\n",
        "*dataset: https://www.kaggle.com/datasets/olistbr/brazilian-ecommerce*"
      ],
      "metadata": {
        "id": "Cs4s9hNN-q5y"
      }
    },
    {
      "cell_type": "markdown",
      "source": [
        "## Aula 1"
      ],
      "metadata": {
        "id": "pebzSI2m0ZiO"
      }
    },
    {
      "cell_type": "markdown",
      "source": [
        "### 1.2 Importando y explorando el dataset"
      ],
      "metadata": {
        "id": "ufIE-dZW1Jkf"
      }
    },
    {
      "cell_type": "code",
      "source": [
        "import datetime\n",
        "import numpy as np\n",
        "import pandas as pd\n",
        "import matplotlib.pyplot as plt\n",
        "import seaborn as sns"
      ],
      "metadata": {
        "id": "gKg7tSUQ0WQ8"
      },
      "execution_count": 1,
      "outputs": []
    },
    {
      "cell_type": "code",
      "source": [
        "from google.colab import drive\n",
        "drive.mount('/content/drive')"
      ],
      "metadata": {
        "colab": {
          "base_uri": "https://localhost:8080/"
        },
        "id": "H-D_Ck29_3a5",
        "outputId": "34c77b37-e714-4a99-9707-c528624888cf"
      },
      "execution_count": 2,
      "outputs": [
        {
          "output_type": "stream",
          "name": "stdout",
          "text": [
            "Mounted at /content/drive\n"
          ]
        }
      ]
    },
    {
      "cell_type": "code",
      "source": [
        "df = pd.read_csv('/content/drive/MyDrive/e_commerce.csv')"
      ],
      "metadata": {
        "id": "xGyvktZG2MRG"
      },
      "execution_count": 3,
      "outputs": []
    },
    {
      "cell_type": "code",
      "source": [
        "df.info()"
      ],
      "metadata": {
        "id": "nb6qMsIh2MZs",
        "colab": {
          "base_uri": "https://localhost:8080/"
        },
        "outputId": "24891dfb-26c2-43fb-9127-7d2012ef4089"
      },
      "execution_count": 4,
      "outputs": [
        {
          "output_type": "stream",
          "name": "stdout",
          "text": [
            "<class 'pandas.core.frame.DataFrame'>\n",
            "RangeIndex: 116581 entries, 0 to 116580\n",
            "Data columns (total 26 columns):\n",
            " #   Column             Non-Null Count   Dtype  \n",
            "---  ------             --------------   -----  \n",
            " 0   muestra            116581 non-null  int64  \n",
            " 1   id_cliente         116581 non-null  object \n",
            " 2   id_unico_cliente   116581 non-null  object \n",
            " 3   item_id            116581 non-null  int64  \n",
            " 4   cp_cliente         116581 non-null  int64  \n",
            " 5   ciudad_cliente     116581 non-null  object \n",
            " 6   estado_cliente     116581 non-null  object \n",
            " 7   id_pedido          116581 non-null  object \n",
            " 8   status_pedido      116581 non-null  object \n",
            " 9   horario_pedido     116581 non-null  object \n",
            " 10  pedido_aprobado    116567 non-null  object \n",
            " 11  pedido_entregador  115368 non-null  object \n",
            " 12  pedido_entregado   114066 non-null  object \n",
            " 13  fecha_estimada     116581 non-null  object \n",
            " 14  id_vendedor        116581 non-null  object \n",
            " 15  precio             116581 non-null  float64\n",
            " 16  precio_envio       116581 non-null  float64\n",
            " 17  pago_secuencial    116581 non-null  int64  \n",
            " 18  pago_tipo          116581 non-null  object \n",
            " 19  pago_cuotas        116581 non-null  int64  \n",
            " 20  pago_valor         116581 non-null  float64\n",
            " 21  review             116581 non-null  int64  \n",
            " 22  categoria          116581 non-null  object \n",
            " 23  cp_vendedor        116581 non-null  int64  \n",
            " 24  ciudad_vendedor    116581 non-null  object \n",
            " 25  estado_vendedor    116581 non-null  object \n",
            "dtypes: float64(3), int64(7), object(16)\n",
            "memory usage: 23.1+ MB\n"
          ]
        }
      ]
    },
    {
      "cell_type": "markdown",
      "source": [
        "### 1.2.1 Columnas y Descripción"
      ],
      "metadata": {
        "id": "KSLsa79X4OwZ"
      }
    },
    {
      "cell_type": "markdown",
      "source": [
        "**muestra**: Numeración creciente de los datos.\n",
        "\n",
        "**id_cliente**: Número de identificación del cliente que realiza la compra.\n",
        "\n",
        "**id_unico_cliente**: Número único para cada cliente en función de su dirección IP, independiente de la compra.\n",
        "\n",
        "**item_id**: Número de identificación del item comprado.\n",
        "\n",
        "**cp_cliente**: Código postal del cliente.\n",
        "\n",
        "**ciudad_cliente**: Ciudad donde se realizó el pedido.\n",
        "\n",
        "**estado_cliente**: Estado donde se realizó el pedido.\n",
        "\n",
        "**id_pedido**: Número de identificación de la compra.\n",
        "\n",
        "**status_pedido**: Status del pedido (Ej. Entregado, facturado, procesando, etc).\n",
        "\n",
        "**horario_pedido**: Fecha y hora en la cual se realizó el pedido.\n",
        "\n",
        "**pedido_aprobado**: Fecha y hora en la cual se aprobó el pedido.  \n",
        "**pedido_entregador**: Fecha y hora en la cual se hizo entrega del pedido a la empresa transportadora.  \n",
        "\n",
        "**pedido_entregado**:Fecha y hora en la cual se hizo entrega del pedido al cliente.\n",
        "\n",
        "**fecha_estimada**:Fecha y hora estimada de entrega.\n",
        "\n",
        "**id_vendedor**: Número de identificación del vendedor.\n",
        "\n",
        "**precio**: Precio del producto.\n",
        "\n",
        "**precio_envio**: Precio del envío.\n",
        "\n",
        "**pago_secuencial**: Compra en la cual el cliente solicita más de una forma de pago (Ej. Crédito y débito, etc).\n",
        "\n",
        "**pago_tipo**: Método de pago (Ej. factura, débito, voucher).\n",
        "\n",
        "**pago_cuotas**: Número de cuotas escogido por el cliente para realizar el pago.\n",
        "\n",
        "**pago_valor**: Valor total pago.\n",
        "\n",
        "**review**: Nota que el consumidor da a todo el proceso.\n",
        "\n",
        "**categoria**: Categoría del item comprado.\n",
        "\n",
        "**cp_vendedor**: Código postal del vendedor.\n",
        "\n",
        "**ciudad_vendedor**: Ciudad del vendedor.\n",
        "\n",
        "**estado_vendedor**: Estado del vendedor."
      ],
      "metadata": {
        "id": "Ix081I4619RJ"
      }
    },
    {
      "cell_type": "code",
      "source": [
        "df.sample(5)"
      ],
      "metadata": {
        "id": "f-X51p_Z-lr4",
        "colab": {
          "base_uri": "https://localhost:8080/",
          "height": 386
        },
        "outputId": "d2175a1b-c552-4788-9d02-4e24bb966026"
      },
      "execution_count": 5,
      "outputs": [
        {
          "output_type": "execute_result",
          "data": {
            "text/plain": [
              "        muestra                        id_cliente  \\\n",
              "55963     55963  9059a4de2206e2ebaf4f178ebbba19ca   \n",
              "85037     85037  cd0fefe4d2b9a05282f54873803290cf   \n",
              "107275   107275  f4f30cbd40f21ac5cd9a2915293ab764   \n",
              "60873     60873  7ff776dab22611690f4c2f5e8d84797a   \n",
              "69561     69561  e0a52aec64e9937f76fe0b2465d12b94   \n",
              "\n",
              "                        id_unico_cliente  item_id  cp_cliente ciudad_cliente  \\\n",
              "55963   cdce9cc5f53c2468e1d74a0b51b6ffdd        1       40240   barranquilla   \n",
              "85037   8612ff1b6f628fe9aaade60bce8c521f        1        4159         bogota   \n",
              "107275  aaebac55c750a67a030fc21247a6f47f        1       68507      florencia   \n",
              "60873   a9dd5adb51c5a1a637afbebf0dd554be        1       13418         bogota   \n",
              "69561   9fe919ec86e46a294e9deb124a2be310        1       95500        pereira   \n",
              "\n",
              "       estado_cliente                         id_pedido status_pedido  \\\n",
              "55963             ATL  cc779b75630b5b63955c7167fcadee93     entregado   \n",
              "85037              DC  daaee3046c061f111811d2fa55699a0a     entregado   \n",
              "107275            CAQ  b703337465b56b40ca0fa126fe39858c     entregado   \n",
              "60873              DC  8738ef1cef38345a46ef71f6f2db365d     entregado   \n",
              "69561             RIS  42a9a8505ab685983ac28e300ba47c2d     entregado   \n",
              "\n",
              "             horario_pedido  ... precio_envio pago_secuencial pago_tipo  \\\n",
              "55963   2017-08-28 22:37:53  ...        16.79               1   credito   \n",
              "85037   2017-09-28 23:56:16  ...        18.80               1   credito   \n",
              "107275  2018-06-15 22:33:00  ...        39.46               1   credito   \n",
              "60873   2018-04-25 15:13:33  ...         8.29               1   credito   \n",
              "69561   2018-06-03 22:33:26  ...        23.31               1   credito   \n",
              "\n",
              "       pago_cuotas pago_valor  review               categoria  cp_vendedor  \\\n",
              "55963            1      41.36       5  informatica_accesorios        14092   \n",
              "85037            1      98.70       4         belleza_y_salud        71200   \n",
              "107275           4     209.36       5                   bebes         3632   \n",
              "60873            1      27.29       5              automotivo         9850   \n",
              "69561            2     128.31       5      muebles_decoracion         3204   \n",
              "\n",
              "       ciudad_vendedor  estado_vendedor  \n",
              "55963           bogota               DC  \n",
              "85037     barranquilla              ATL  \n",
              "107275          bogota               DC  \n",
              "60873           bogota               DC  \n",
              "69561           bogota               DC  \n",
              "\n",
              "[5 rows x 26 columns]"
            ],
            "text/html": [
              "\n",
              "\n",
              "  <div id=\"df-49cd27af-8885-4ac0-a4ee-7e5e782dbf11\">\n",
              "    <div class=\"colab-df-container\">\n",
              "      <div>\n",
              "<style scoped>\n",
              "    .dataframe tbody tr th:only-of-type {\n",
              "        vertical-align: middle;\n",
              "    }\n",
              "\n",
              "    .dataframe tbody tr th {\n",
              "        vertical-align: top;\n",
              "    }\n",
              "\n",
              "    .dataframe thead th {\n",
              "        text-align: right;\n",
              "    }\n",
              "</style>\n",
              "<table border=\"1\" class=\"dataframe\">\n",
              "  <thead>\n",
              "    <tr style=\"text-align: right;\">\n",
              "      <th></th>\n",
              "      <th>muestra</th>\n",
              "      <th>id_cliente</th>\n",
              "      <th>id_unico_cliente</th>\n",
              "      <th>item_id</th>\n",
              "      <th>cp_cliente</th>\n",
              "      <th>ciudad_cliente</th>\n",
              "      <th>estado_cliente</th>\n",
              "      <th>id_pedido</th>\n",
              "      <th>status_pedido</th>\n",
              "      <th>horario_pedido</th>\n",
              "      <th>...</th>\n",
              "      <th>precio_envio</th>\n",
              "      <th>pago_secuencial</th>\n",
              "      <th>pago_tipo</th>\n",
              "      <th>pago_cuotas</th>\n",
              "      <th>pago_valor</th>\n",
              "      <th>review</th>\n",
              "      <th>categoria</th>\n",
              "      <th>cp_vendedor</th>\n",
              "      <th>ciudad_vendedor</th>\n",
              "      <th>estado_vendedor</th>\n",
              "    </tr>\n",
              "  </thead>\n",
              "  <tbody>\n",
              "    <tr>\n",
              "      <th>55963</th>\n",
              "      <td>55963</td>\n",
              "      <td>9059a4de2206e2ebaf4f178ebbba19ca</td>\n",
              "      <td>cdce9cc5f53c2468e1d74a0b51b6ffdd</td>\n",
              "      <td>1</td>\n",
              "      <td>40240</td>\n",
              "      <td>barranquilla</td>\n",
              "      <td>ATL</td>\n",
              "      <td>cc779b75630b5b63955c7167fcadee93</td>\n",
              "      <td>entregado</td>\n",
              "      <td>2017-08-28 22:37:53</td>\n",
              "      <td>...</td>\n",
              "      <td>16.79</td>\n",
              "      <td>1</td>\n",
              "      <td>credito</td>\n",
              "      <td>1</td>\n",
              "      <td>41.36</td>\n",
              "      <td>5</td>\n",
              "      <td>informatica_accesorios</td>\n",
              "      <td>14092</td>\n",
              "      <td>bogota</td>\n",
              "      <td>DC</td>\n",
              "    </tr>\n",
              "    <tr>\n",
              "      <th>85037</th>\n",
              "      <td>85037</td>\n",
              "      <td>cd0fefe4d2b9a05282f54873803290cf</td>\n",
              "      <td>8612ff1b6f628fe9aaade60bce8c521f</td>\n",
              "      <td>1</td>\n",
              "      <td>4159</td>\n",
              "      <td>bogota</td>\n",
              "      <td>DC</td>\n",
              "      <td>daaee3046c061f111811d2fa55699a0a</td>\n",
              "      <td>entregado</td>\n",
              "      <td>2017-09-28 23:56:16</td>\n",
              "      <td>...</td>\n",
              "      <td>18.80</td>\n",
              "      <td>1</td>\n",
              "      <td>credito</td>\n",
              "      <td>1</td>\n",
              "      <td>98.70</td>\n",
              "      <td>4</td>\n",
              "      <td>belleza_y_salud</td>\n",
              "      <td>71200</td>\n",
              "      <td>barranquilla</td>\n",
              "      <td>ATL</td>\n",
              "    </tr>\n",
              "    <tr>\n",
              "      <th>107275</th>\n",
              "      <td>107275</td>\n",
              "      <td>f4f30cbd40f21ac5cd9a2915293ab764</td>\n",
              "      <td>aaebac55c750a67a030fc21247a6f47f</td>\n",
              "      <td>1</td>\n",
              "      <td>68507</td>\n",
              "      <td>florencia</td>\n",
              "      <td>CAQ</td>\n",
              "      <td>b703337465b56b40ca0fa126fe39858c</td>\n",
              "      <td>entregado</td>\n",
              "      <td>2018-06-15 22:33:00</td>\n",
              "      <td>...</td>\n",
              "      <td>39.46</td>\n",
              "      <td>1</td>\n",
              "      <td>credito</td>\n",
              "      <td>4</td>\n",
              "      <td>209.36</td>\n",
              "      <td>5</td>\n",
              "      <td>bebes</td>\n",
              "      <td>3632</td>\n",
              "      <td>bogota</td>\n",
              "      <td>DC</td>\n",
              "    </tr>\n",
              "    <tr>\n",
              "      <th>60873</th>\n",
              "      <td>60873</td>\n",
              "      <td>7ff776dab22611690f4c2f5e8d84797a</td>\n",
              "      <td>a9dd5adb51c5a1a637afbebf0dd554be</td>\n",
              "      <td>1</td>\n",
              "      <td>13418</td>\n",
              "      <td>bogota</td>\n",
              "      <td>DC</td>\n",
              "      <td>8738ef1cef38345a46ef71f6f2db365d</td>\n",
              "      <td>entregado</td>\n",
              "      <td>2018-04-25 15:13:33</td>\n",
              "      <td>...</td>\n",
              "      <td>8.29</td>\n",
              "      <td>1</td>\n",
              "      <td>credito</td>\n",
              "      <td>1</td>\n",
              "      <td>27.29</td>\n",
              "      <td>5</td>\n",
              "      <td>automotivo</td>\n",
              "      <td>9850</td>\n",
              "      <td>bogota</td>\n",
              "      <td>DC</td>\n",
              "    </tr>\n",
              "    <tr>\n",
              "      <th>69561</th>\n",
              "      <td>69561</td>\n",
              "      <td>e0a52aec64e9937f76fe0b2465d12b94</td>\n",
              "      <td>9fe919ec86e46a294e9deb124a2be310</td>\n",
              "      <td>1</td>\n",
              "      <td>95500</td>\n",
              "      <td>pereira</td>\n",
              "      <td>RIS</td>\n",
              "      <td>42a9a8505ab685983ac28e300ba47c2d</td>\n",
              "      <td>entregado</td>\n",
              "      <td>2018-06-03 22:33:26</td>\n",
              "      <td>...</td>\n",
              "      <td>23.31</td>\n",
              "      <td>1</td>\n",
              "      <td>credito</td>\n",
              "      <td>2</td>\n",
              "      <td>128.31</td>\n",
              "      <td>5</td>\n",
              "      <td>muebles_decoracion</td>\n",
              "      <td>3204</td>\n",
              "      <td>bogota</td>\n",
              "      <td>DC</td>\n",
              "    </tr>\n",
              "  </tbody>\n",
              "</table>\n",
              "<p>5 rows × 26 columns</p>\n",
              "</div>\n",
              "      <button class=\"colab-df-convert\" onclick=\"convertToInteractive('df-49cd27af-8885-4ac0-a4ee-7e5e782dbf11')\"\n",
              "              title=\"Convert this dataframe to an interactive table.\"\n",
              "              style=\"display:none;\">\n",
              "\n",
              "  <svg xmlns=\"http://www.w3.org/2000/svg\" height=\"24px\"viewBox=\"0 0 24 24\"\n",
              "       width=\"24px\">\n",
              "    <path d=\"M0 0h24v24H0V0z\" fill=\"none\"/>\n",
              "    <path d=\"M18.56 5.44l.94 2.06.94-2.06 2.06-.94-2.06-.94-.94-2.06-.94 2.06-2.06.94zm-11 1L8.5 8.5l.94-2.06 2.06-.94-2.06-.94L8.5 2.5l-.94 2.06-2.06.94zm10 10l.94 2.06.94-2.06 2.06-.94-2.06-.94-.94-2.06-.94 2.06-2.06.94z\"/><path d=\"M17.41 7.96l-1.37-1.37c-.4-.4-.92-.59-1.43-.59-.52 0-1.04.2-1.43.59L10.3 9.45l-7.72 7.72c-.78.78-.78 2.05 0 2.83L4 21.41c.39.39.9.59 1.41.59.51 0 1.02-.2 1.41-.59l7.78-7.78 2.81-2.81c.8-.78.8-2.07 0-2.86zM5.41 20L4 18.59l7.72-7.72 1.47 1.35L5.41 20z\"/>\n",
              "  </svg>\n",
              "      </button>\n",
              "\n",
              "\n",
              "\n",
              "    <div id=\"df-8292c481-9b9e-4900-add5-e1092fca0149\">\n",
              "      <button class=\"colab-df-quickchart\" onclick=\"quickchart('df-8292c481-9b9e-4900-add5-e1092fca0149')\"\n",
              "              title=\"Suggest charts.\"\n",
              "              style=\"display:none;\">\n",
              "\n",
              "<svg xmlns=\"http://www.w3.org/2000/svg\" height=\"24px\"viewBox=\"0 0 24 24\"\n",
              "     width=\"24px\">\n",
              "    <g>\n",
              "        <path d=\"M19 3H5c-1.1 0-2 .9-2 2v14c0 1.1.9 2 2 2h14c1.1 0 2-.9 2-2V5c0-1.1-.9-2-2-2zM9 17H7v-7h2v7zm4 0h-2V7h2v10zm4 0h-2v-4h2v4z\"/>\n",
              "    </g>\n",
              "</svg>\n",
              "      </button>\n",
              "    </div>\n",
              "\n",
              "<style>\n",
              "  .colab-df-quickchart {\n",
              "    background-color: #E8F0FE;\n",
              "    border: none;\n",
              "    border-radius: 50%;\n",
              "    cursor: pointer;\n",
              "    display: none;\n",
              "    fill: #1967D2;\n",
              "    height: 32px;\n",
              "    padding: 0 0 0 0;\n",
              "    width: 32px;\n",
              "  }\n",
              "\n",
              "  .colab-df-quickchart:hover {\n",
              "    background-color: #E2EBFA;\n",
              "    box-shadow: 0px 1px 2px rgba(60, 64, 67, 0.3), 0px 1px 3px 1px rgba(60, 64, 67, 0.15);\n",
              "    fill: #174EA6;\n",
              "  }\n",
              "\n",
              "  [theme=dark] .colab-df-quickchart {\n",
              "    background-color: #3B4455;\n",
              "    fill: #D2E3FC;\n",
              "  }\n",
              "\n",
              "  [theme=dark] .colab-df-quickchart:hover {\n",
              "    background-color: #434B5C;\n",
              "    box-shadow: 0px 1px 3px 1px rgba(0, 0, 0, 0.15);\n",
              "    filter: drop-shadow(0px 1px 2px rgba(0, 0, 0, 0.3));\n",
              "    fill: #FFFFFF;\n",
              "  }\n",
              "</style>\n",
              "\n",
              "    <script>\n",
              "      async function quickchart(key) {\n",
              "        const containerElement = document.querySelector('#' + key);\n",
              "        const charts = await google.colab.kernel.invokeFunction(\n",
              "            'suggestCharts', [key], {});\n",
              "      }\n",
              "    </script>\n",
              "\n",
              "      <script>\n",
              "\n",
              "function displayQuickchartButton(domScope) {\n",
              "  let quickchartButtonEl =\n",
              "    domScope.querySelector('#df-8292c481-9b9e-4900-add5-e1092fca0149 button.colab-df-quickchart');\n",
              "  quickchartButtonEl.style.display =\n",
              "    google.colab.kernel.accessAllowed ? 'block' : 'none';\n",
              "}\n",
              "\n",
              "        displayQuickchartButton(document);\n",
              "      </script>\n",
              "      <style>\n",
              "    .colab-df-container {\n",
              "      display:flex;\n",
              "      flex-wrap:wrap;\n",
              "      gap: 12px;\n",
              "    }\n",
              "\n",
              "    .colab-df-convert {\n",
              "      background-color: #E8F0FE;\n",
              "      border: none;\n",
              "      border-radius: 50%;\n",
              "      cursor: pointer;\n",
              "      display: none;\n",
              "      fill: #1967D2;\n",
              "      height: 32px;\n",
              "      padding: 0 0 0 0;\n",
              "      width: 32px;\n",
              "    }\n",
              "\n",
              "    .colab-df-convert:hover {\n",
              "      background-color: #E2EBFA;\n",
              "      box-shadow: 0px 1px 2px rgba(60, 64, 67, 0.3), 0px 1px 3px 1px rgba(60, 64, 67, 0.15);\n",
              "      fill: #174EA6;\n",
              "    }\n",
              "\n",
              "    [theme=dark] .colab-df-convert {\n",
              "      background-color: #3B4455;\n",
              "      fill: #D2E3FC;\n",
              "    }\n",
              "\n",
              "    [theme=dark] .colab-df-convert:hover {\n",
              "      background-color: #434B5C;\n",
              "      box-shadow: 0px 1px 3px 1px rgba(0, 0, 0, 0.15);\n",
              "      filter: drop-shadow(0px 1px 2px rgba(0, 0, 0, 0.3));\n",
              "      fill: #FFFFFF;\n",
              "    }\n",
              "  </style>\n",
              "\n",
              "      <script>\n",
              "        const buttonEl =\n",
              "          document.querySelector('#df-49cd27af-8885-4ac0-a4ee-7e5e782dbf11 button.colab-df-convert');\n",
              "        buttonEl.style.display =\n",
              "          google.colab.kernel.accessAllowed ? 'block' : 'none';\n",
              "\n",
              "        async function convertToInteractive(key) {\n",
              "          const element = document.querySelector('#df-49cd27af-8885-4ac0-a4ee-7e5e782dbf11');\n",
              "          const dataTable =\n",
              "            await google.colab.kernel.invokeFunction('convertToInteractive',\n",
              "                                                     [key], {});\n",
              "          if (!dataTable) return;\n",
              "\n",
              "          const docLinkHtml = 'Like what you see? Visit the ' +\n",
              "            '<a target=\"_blank\" href=https://colab.research.google.com/notebooks/data_table.ipynb>data table notebook</a>'\n",
              "            + ' to learn more about interactive tables.';\n",
              "          element.innerHTML = '';\n",
              "          dataTable['output_type'] = 'display_data';\n",
              "          await google.colab.output.renderOutput(dataTable, element);\n",
              "          const docLink = document.createElement('div');\n",
              "          docLink.innerHTML = docLinkHtml;\n",
              "          element.appendChild(docLink);\n",
              "        }\n",
              "      </script>\n",
              "    </div>\n",
              "  </div>\n"
            ]
          },
          "metadata": {},
          "execution_count": 5
        }
      ]
    },
    {
      "cell_type": "markdown",
      "source": [
        "### 1.3 Análisis exploratorio de los datos"
      ],
      "metadata": {
        "id": "rM7YHCXC0OSD"
      }
    },
    {
      "cell_type": "code",
      "source": [
        "def plot_porcentajes(estado,datos):\n",
        "  plt.figure(figsize=(20,8))\n",
        "  grafico = sns.countplot(x=estado,data=datos,orient='h')\n",
        "  grafico.set_ylabel('Conteo', fontsize=17)\n",
        "\n",
        "  sizes = []\n",
        "\n",
        "  for p in grafico.patches:\n",
        "    height = p.get_height()\n",
        "    sizes.append(height)\n",
        "    grafico.text(p.get_x() + p.get_width()/1.6, height+200, f'{round(height/len(datos)*100,2)}%',ha='center', va='bottom', fontsize=12)\n",
        "    grafico.set_ylim(0,max(sizes)*1.1)"
      ],
      "metadata": {
        "id": "iGkmFQeM2FKO"
      },
      "execution_count": 6,
      "outputs": []
    },
    {
      "cell_type": "code",
      "source": [
        "plot_porcentajes('estado_cliente',df)"
      ],
      "metadata": {
        "id": "V_86OWAf2FR1",
        "colab": {
          "base_uri": "https://localhost:8080/",
          "height": 529
        },
        "outputId": "f37fb922-cda8-4409-8d73-f4e146ab80e2"
      },
      "execution_count": null,
      "outputs": [
        {
          "output_type": "display_data",
          "data": {
            "text/plain": [
              "<Figure size 2000x800 with 1 Axes>"
            ],
            "image/png": "[encoded data removed]"
          },
          "metadata": {}
        }
      ]
    },
    {
      "cell_type": "code",
      "source": [
        "plot_porcentajes('estado_vendedor',df)"
      ],
      "metadata": {
        "id": "5U3bZfYf2FyW",
        "colab": {
          "base_uri": "https://localhost:8080/",
          "height": 456
        },
        "outputId": "a156cdbf-39ab-4541-ab3c-795bd17a7c4c"
      },
      "execution_count": 7,
      "outputs": [
        {
          "output_type": "display_data",
          "data": {
            "text/plain": [
              "<Figure size 2000x800 with 1 Axes>"
            ],
            "image/png": "[encoded data removed]"
          },
          "metadata": {}
        }
      ]
    },
    {
      "cell_type": "code",
      "source": [
        "plot_porcentajes('pago_tipo',df)"
      ],
      "metadata": {
        "colab": {
          "base_uri": "https://localhost:8080/",
          "height": 456
        },
        "id": "XDaVaE52FdPN",
        "outputId": "7b3aed86-9398-4a85-8687-5c9ff8001153"
      },
      "execution_count": 8,
      "outputs": [
        {
          "output_type": "display_data",
          "data": {
            "text/plain": [
              "<Figure size 2000x800 with 1 Axes>"
            ],
            "image/png": "[encoded data removed]"
          },
          "metadata": {}
        }
      ]
    },
    {
      "cell_type": "markdown",
      "source": [
        "Lo que aprendimos en esta aula:\n",
        "\n",
        "Cuáles son las principales etapas en un problema de segmentación;\n",
        "\n",
        "Qué tipo de datos necesitamos obtener;\n",
        "\n",
        "Cómo el análisis exploratorio nos ayuda a identificar insights;\n",
        "\n",
        "Cómo añadir textos informativos a los gráficos."
      ],
      "metadata": {
        "id": "ImyEdNaMGMSY"
      }
    },
    {
      "cell_type": "markdown",
      "source": [
        "## Aula 2"
      ],
      "metadata": {
        "id": "-3K5G6fW2P0u"
      }
    },
    {
      "cell_type": "markdown",
      "source": [
        "### 2.1 Modelo RFM"
      ],
      "metadata": {
        "id": "ERl1lwOo2Sgb"
      }
    },
    {
      "cell_type": "markdown",
      "source": [
        "#### **Recencia (R)**\n",
        "##### ¿Hace cuántos días fue la última compra que realizó este cliente?\n",
        "\n",
        "#### **Frecuencia (F)**\n",
        "##### ¿Cuántas compras este cliente hizo en tu empresa, desde que se registró?\n",
        "\n",
        "#### **Valor Monetario (M)**\n",
        "##### ¿Cuánto dinero este cliente ya gastó en tu empresa?"
      ],
      "metadata": {
        "id": "DvWpE12x2pkw"
      }
    },
    {
      "cell_type": "code",
      "source": [
        "df_olist = df[['id_unico_cliente','id_cliente','horario_pedido','item_id','precio']]\n",
        "df_olist.head()"
      ],
      "metadata": {
        "id": "udF6KDZJ2ZfC",
        "colab": {
          "base_uri": "https://localhost:8080/",
          "height": 206
        },
        "outputId": "487c0465-6cf9-452f-f843-578a48c6e033"
      },
      "execution_count": 9,
      "outputs": [
        {
          "output_type": "execute_result",
          "data": {
            "text/plain": [
              "                   id_unico_cliente                        id_cliente  \\\n",
              "0  861eff4711a542e4b93843c6dd7febb0  06b8999e2fba1a1fbc88172c00ba8bc7   \n",
              "1  9eae34bbd3a474ec5d07949ca7de67c0  8912fc0c3bbf1e2fbf35819e21706718   \n",
              "2  9eae34bbd3a474ec5d07949ca7de67c0  8912fc0c3bbf1e2fbf35819e21706718   \n",
              "3  3c799d181c34d51f6d44bbbc563024db  f0ac8e5a239118859b1734e1087cbb1f   \n",
              "4  23397e992b09769faf5e66f9e171a241  6bc8d08963a135220ed6c6d098831f84   \n",
              "\n",
              "        horario_pedido  item_id  precio  \n",
              "0  2017-05-16 15:05:35        1  124.99  \n",
              "1  2017-11-09 00:50:13        1  112.99  \n",
              "2  2017-11-09 00:50:13        2  112.99  \n",
              "3  2017-05-07 20:11:26        1  124.99  \n",
              "4  2018-02-03 19:45:40        1  106.99  "
            ],
            "text/html": [
              "\n",
              "\n",
              "  <div id=\"df-ff5ffe7b-efa6-43f3-ae9d-dfd8a8f0d1c2\">\n",
              "    <div class=\"colab-df-container\">\n",
              "      <div>\n",
              "<style scoped>\n",
              "    .dataframe tbody tr th:only-of-type {\n",
              "        vertical-align: middle;\n",
              "    }\n",
              "\n",
              "    .dataframe tbody tr th {\n",
              "        vertical-align: top;\n",
              "    }\n",
              "\n",
              "    .dataframe thead th {\n",
              "        text-align: right;\n",
              "    }\n",
              "</style>\n",
              "<table border=\"1\" class=\"dataframe\">\n",
              "  <thead>\n",
              "    <tr style=\"text-align: right;\">\n",
              "      <th></th>\n",
              "      <th>id_unico_cliente</th>\n",
              "      <th>id_cliente</th>\n",
              "      <th>horario_pedido</th>\n",
              "      <th>item_id</th>\n",
              "      <th>precio</th>\n",
              "    </tr>\n",
              "  </thead>\n",
              "  <tbody>\n",
              "    <tr>\n",
              "      <th>0</th>\n",
              "      <td>861eff4711a542e4b93843c6dd7febb0</td>\n",
              "      <td>06b8999e2fba1a1fbc88172c00ba8bc7</td>\n",
              "      <td>2017-05-16 15:05:35</td>\n",
              "      <td>1</td>\n",
              "      <td>124.99</td>\n",
              "    </tr>\n",
              "    <tr>\n",
              "      <th>1</th>\n",
              "      <td>9eae34bbd3a474ec5d07949ca7de67c0</td>\n",
              "      <td>8912fc0c3bbf1e2fbf35819e21706718</td>\n",
              "      <td>2017-11-09 00:50:13</td>\n",
              "      <td>1</td>\n",
              "      <td>112.99</td>\n",
              "    </tr>\n",
              "    <tr>\n",
              "      <th>2</th>\n",
              "      <td>9eae34bbd3a474ec5d07949ca7de67c0</td>\n",
              "      <td>8912fc0c3bbf1e2fbf35819e21706718</td>\n",
              "      <td>2017-11-09 00:50:13</td>\n",
              "      <td>2</td>\n",
              "      <td>112.99</td>\n",
              "    </tr>\n",
              "    <tr>\n",
              "      <th>3</th>\n",
              "      <td>3c799d181c34d51f6d44bbbc563024db</td>\n",
              "      <td>f0ac8e5a239118859b1734e1087cbb1f</td>\n",
              "      <td>2017-05-07 20:11:26</td>\n",
              "      <td>1</td>\n",
              "      <td>124.99</td>\n",
              "    </tr>\n",
              "    <tr>\n",
              "      <th>4</th>\n",
              "      <td>23397e992b09769faf5e66f9e171a241</td>\n",
              "      <td>6bc8d08963a135220ed6c6d098831f84</td>\n",
              "      <td>2018-02-03 19:45:40</td>\n",
              "      <td>1</td>\n",
              "      <td>106.99</td>\n",
              "    </tr>\n",
              "  </tbody>\n",
              "</table>\n",
              "</div>\n",
              "      <button class=\"colab-df-convert\" onclick=\"convertToInteractive('df-ff5ffe7b-efa6-43f3-ae9d-dfd8a8f0d1c2')\"\n",
              "              title=\"Convert this dataframe to an interactive table.\"\n",
              "              style=\"display:none;\">\n",
              "\n",
              "  <svg xmlns=\"http://www.w3.org/2000/svg\" height=\"24px\"viewBox=\"0 0 24 24\"\n",
              "       width=\"24px\">\n",
              "    <path d=\"M0 0h24v24H0V0z\" fill=\"none\"/>\n",
              "    <path d=\"M18.56 5.44l.94 2.06.94-2.06 2.06-.94-2.06-.94-.94-2.06-.94 2.06-2.06.94zm-11 1L8.5 8.5l.94-2.06 2.06-.94-2.06-.94L8.5 2.5l-.94 2.06-2.06.94zm10 10l.94 2.06.94-2.06 2.06-.94-2.06-.94-.94-2.06-.94 2.06-2.06.94z\"/><path d=\"M17.41 7.96l-1.37-1.37c-.4-.4-.92-.59-1.43-.59-.52 0-1.04.2-1.43.59L10.3 9.45l-7.72 7.72c-.78.78-.78 2.05 0 2.83L4 21.41c.39.39.9.59 1.41.59.51 0 1.02-.2 1.41-.59l7.78-7.78 2.81-2.81c.8-.78.8-2.07 0-2.86zM5.41 20L4 18.59l7.72-7.72 1.47 1.35L5.41 20z\"/>\n",
              "  </svg>\n",
              "      </button>\n",
              "\n",
              "\n",
              "\n",
              "    <div id=\"df-19c5ff1a-7a9e-4b61-a817-5c2d342cdb52\">\n",
              "      <button class=\"colab-df-quickchart\" onclick=\"quickchart('df-19c5ff1a-7a9e-4b61-a817-5c2d342cdb52')\"\n",
              "              title=\"Suggest charts.\"\n",
              "              style=\"display:none;\">\n",
              "\n",
              "<svg xmlns=\"http://www.w3.org/2000/svg\" height=\"24px\"viewBox=\"0 0 24 24\"\n",
              "     width=\"24px\">\n",
              "    <g>\n",
              "        <path d=\"M19 3H5c-1.1 0-2 .9-2 2v14c0 1.1.9 2 2 2h14c1.1 0 2-.9 2-2V5c0-1.1-.9-2-2-2zM9 17H7v-7h2v7zm4 0h-2V7h2v10zm4 0h-2v-4h2v4z\"/>\n",
              "    </g>\n",
              "</svg>\n",
              "      </button>\n",
              "    </div>\n",
              "\n",
              "<style>\n",
              "  .colab-df-quickchart {\n",
              "    background-color: #E8F0FE;\n",
              "    border: none;\n",
              "    border-radius: 50%;\n",
              "    cursor: pointer;\n",
              "    display: none;\n",
              "    fill: #1967D2;\n",
              "    height: 32px;\n",
              "    padding: 0 0 0 0;\n",
              "    width: 32px;\n",
              "  }\n",
              "\n",
              "  .colab-df-quickchart:hover {\n",
              "    background-color: #E2EBFA;\n",
              "    box-shadow: 0px 1px 2px rgba(60, 64, 67, 0.3), 0px 1px 3px 1px rgba(60, 64, 67, 0.15);\n",
              "    fill: #174EA6;\n",
              "  }\n",
              "\n",
              "  [theme=dark] .colab-df-quickchart {\n",
              "    background-color: #3B4455;\n",
              "    fill: #D2E3FC;\n",
              "  }\n",
              "\n",
              "  [theme=dark] .colab-df-quickchart:hover {\n",
              "    background-color: #434B5C;\n",
              "    box-shadow: 0px 1px 3px 1px rgba(0, 0, 0, 0.15);\n",
              "    filter: drop-shadow(0px 1px 2px rgba(0, 0, 0, 0.3));\n",
              "    fill: #FFFFFF;\n",
              "  }\n",
              "</style>\n",
              "\n",
              "    <script>\n",
              "      async function quickchart(key) {\n",
              "        const containerElement = document.querySelector('#' + key);\n",
              "        const charts = await google.colab.kernel.invokeFunction(\n",
              "            'suggestCharts', [key], {});\n",
              "      }\n",
              "    </script>\n",
              "\n",
              "      <script>\n",
              "\n",
              "function displayQuickchartButton(domScope) {\n",
              "  let quickchartButtonEl =\n",
              "    domScope.querySelector('#df-19c5ff1a-7a9e-4b61-a817-5c2d342cdb52 button.colab-df-quickchart');\n",
              "  quickchartButtonEl.style.display =\n",
              "    google.colab.kernel.accessAllowed ? 'block' : 'none';\n",
              "}\n",
              "\n",
              "        displayQuickchartButton(document);\n",
              "      </script>\n",
              "      <style>\n",
              "    .colab-df-container {\n",
              "      display:flex;\n",
              "      flex-wrap:wrap;\n",
              "      gap: 12px;\n",
              "    }\n",
              "\n",
              "    .colab-df-convert {\n",
              "      background-color: #E8F0FE;\n",
              "      border: none;\n",
              "      border-radius: 50%;\n",
              "      cursor: pointer;\n",
              "      display: none;\n",
              "      fill: #1967D2;\n",
              "      height: 32px;\n",
              "      padding: 0 0 0 0;\n",
              "      width: 32px;\n",
              "    }\n",
              "\n",
              "    .colab-df-convert:hover {\n",
              "      background-color: #E2EBFA;\n",
              "      box-shadow: 0px 1px 2px rgba(60, 64, 67, 0.3), 0px 1px 3px 1px rgba(60, 64, 67, 0.15);\n",
              "      fill: #174EA6;\n",
              "    }\n",
              "\n",
              "    [theme=dark] .colab-df-convert {\n",
              "      background-color: #3B4455;\n",
              "      fill: #D2E3FC;\n",
              "    }\n",
              "\n",
              "    [theme=dark] .colab-df-convert:hover {\n",
              "      background-color: #434B5C;\n",
              "      box-shadow: 0px 1px 3px 1px rgba(0, 0, 0, 0.15);\n",
              "      filter: drop-shadow(0px 1px 2px rgba(0, 0, 0, 0.3));\n",
              "      fill: #FFFFFF;\n",
              "    }\n",
              "  </style>\n",
              "\n",
              "      <script>\n",
              "        const buttonEl =\n",
              "          document.querySelector('#df-ff5ffe7b-efa6-43f3-ae9d-dfd8a8f0d1c2 button.colab-df-convert');\n",
              "        buttonEl.style.display =\n",
              "          google.colab.kernel.accessAllowed ? 'block' : 'none';\n",
              "\n",
              "        async function convertToInteractive(key) {\n",
              "          const element = document.querySelector('#df-ff5ffe7b-efa6-43f3-ae9d-dfd8a8f0d1c2');\n",
              "          const dataTable =\n",
              "            await google.colab.kernel.invokeFunction('convertToInteractive',\n",
              "                                                     [key], {});\n",
              "          if (!dataTable) return;\n",
              "\n",
              "          const docLinkHtml = 'Like what you see? Visit the ' +\n",
              "            '<a target=\"_blank\" href=https://colab.research.google.com/notebooks/data_table.ipynb>data table notebook</a>'\n",
              "            + ' to learn more about interactive tables.';\n",
              "          element.innerHTML = '';\n",
              "          dataTable['output_type'] = 'display_data';\n",
              "          await google.colab.output.renderOutput(dataTable, element);\n",
              "          const docLink = document.createElement('div');\n",
              "          docLink.innerHTML = docLinkHtml;\n",
              "          element.appendChild(docLink);\n",
              "        }\n",
              "      </script>\n",
              "    </div>\n",
              "  </div>\n"
            ]
          },
          "metadata": {},
          "execution_count": 9
        }
      ]
    },
    {
      "cell_type": "code",
      "source": [
        "df_compra = df.groupby('id_unico_cliente').horario_pedido.max().reset_index()\n",
        "df_compra.columns = ['id_unico_cliente', 'fecha_max_compra']\n",
        "df_compra['fecha_max_compra'] = pd.to_datetime(df_compra['fecha_max_compra'])\n",
        "df_compra.head()"
      ],
      "metadata": {
        "id": "LxsEV7tY47YH",
        "colab": {
          "base_uri": "https://localhost:8080/",
          "height": 206
        },
        "outputId": "e3c88834-3ec3-4553-c10a-cdd756382962"
      },
      "execution_count": 10,
      "outputs": [
        {
          "output_type": "execute_result",
          "data": {
            "text/plain": [
              "                   id_unico_cliente    fecha_max_compra\n",
              "0  0000366f3b9a7992bf8c76cfdf3221e2 2018-05-10 10:56:27\n",
              "1  0000b849f77a49e4a4ce2b2a4ca5be3f 2018-05-07 11:11:27\n",
              "2  0000f46a3911fa3c0805444483337064 2017-03-10 21:05:03\n",
              "3  0000f6ccb0745a6a4b88665a16c9f078 2017-10-12 20:29:41\n",
              "4  0004aac84e0df4da2b147fca70cf8255 2017-11-14 19:45:42"
            ],
            "text/html": [
              "\n",
              "\n",
              "  <div id=\"df-8aa13558-63a4-46d2-b80c-81cf66ec4f3c\">\n",
              "    <div class=\"colab-df-container\">\n",
              "      <div>\n",
              "<style scoped>\n",
              "    .dataframe tbody tr th:only-of-type {\n",
              "        vertical-align: middle;\n",
              "    }\n",
              "\n",
              "    .dataframe tbody tr th {\n",
              "        vertical-align: top;\n",
              "    }\n",
              "\n",
              "    .dataframe thead th {\n",
              "        text-align: right;\n",
              "    }\n",
              "</style>\n",
              "<table border=\"1\" class=\"dataframe\">\n",
              "  <thead>\n",
              "    <tr style=\"text-align: right;\">\n",
              "      <th></th>\n",
              "      <th>id_unico_cliente</th>\n",
              "      <th>fecha_max_compra</th>\n",
              "    </tr>\n",
              "  </thead>\n",
              "  <tbody>\n",
              "    <tr>\n",
              "      <th>0</th>\n",
              "      <td>0000366f3b9a7992bf8c76cfdf3221e2</td>\n",
              "      <td>2018-05-10 10:56:27</td>\n",
              "    </tr>\n",
              "    <tr>\n",
              "      <th>1</th>\n",
              "      <td>0000b849f77a49e4a4ce2b2a4ca5be3f</td>\n",
              "      <td>2018-05-07 11:11:27</td>\n",
              "    </tr>\n",
              "    <tr>\n",
              "      <th>2</th>\n",
              "      <td>0000f46a3911fa3c0805444483337064</td>\n",
              "      <td>2017-03-10 21:05:03</td>\n",
              "    </tr>\n",
              "    <tr>\n",
              "      <th>3</th>\n",
              "      <td>0000f6ccb0745a6a4b88665a16c9f078</td>\n",
              "      <td>2017-10-12 20:29:41</td>\n",
              "    </tr>\n",
              "    <tr>\n",
              "      <th>4</th>\n",
              "      <td>0004aac84e0df4da2b147fca70cf8255</td>\n",
              "      <td>2017-11-14 19:45:42</td>\n",
              "    </tr>\n",
              "  </tbody>\n",
              "</table>\n",
              "</div>\n",
              "      <button class=\"colab-df-convert\" onclick=\"convertToInteractive('df-8aa13558-63a4-46d2-b80c-81cf66ec4f3c')\"\n",
              "              title=\"Convert this dataframe to an interactive table.\"\n",
              "              style=\"display:none;\">\n",
              "\n",
              "  <svg xmlns=\"http://www.w3.org/2000/svg\" height=\"24px\"viewBox=\"0 0 24 24\"\n",
              "       width=\"24px\">\n",
              "    <path d=\"M0 0h24v24H0V0z\" fill=\"none\"/>\n",
              "    <path d=\"M18.56 5.44l.94 2.06.94-2.06 2.06-.94-2.06-.94-.94-2.06-.94 2.06-2.06.94zm-11 1L8.5 8.5l.94-2.06 2.06-.94-2.06-.94L8.5 2.5l-.94 2.06-2.06.94zm10 10l.94 2.06.94-2.06 2.06-.94-2.06-.94-.94-2.06-.94 2.06-2.06.94z\"/><path d=\"M17.41 7.96l-1.37-1.37c-.4-.4-.92-.59-1.43-.59-.52 0-1.04.2-1.43.59L10.3 9.45l-7.72 7.72c-.78.78-.78 2.05 0 2.83L4 21.41c.39.39.9.59 1.41.59.51 0 1.02-.2 1.41-.59l7.78-7.78 2.81-2.81c.8-.78.8-2.07 0-2.86zM5.41 20L4 18.59l7.72-7.72 1.47 1.35L5.41 20z\"/>\n",
              "  </svg>\n",
              "      </button>\n",
              "\n",
              "\n",
              "\n",
              "    <div id=\"df-ccdda7cd-67fc-4209-b83c-fb9167e6fa6c\">\n",
              "      <button class=\"colab-df-quickchart\" onclick=\"quickchart('df-ccdda7cd-67fc-4209-b83c-fb9167e6fa6c')\"\n",
              "              title=\"Suggest charts.\"\n",
              "              style=\"display:none;\">\n",
              "\n",
              "<svg xmlns=\"http://www.w3.org/2000/svg\" height=\"24px\"viewBox=\"0 0 24 24\"\n",
              "     width=\"24px\">\n",
              "    <g>\n",
              "        <path d=\"M19 3H5c-1.1 0-2 .9-2 2v14c0 1.1.9 2 2 2h14c1.1 0 2-.9 2-2V5c0-1.1-.9-2-2-2zM9 17H7v-7h2v7zm4 0h-2V7h2v10zm4 0h-2v-4h2v4z\"/>\n",
              "    </g>\n",
              "</svg>\n",
              "      </button>\n",
              "    </div>\n",
              "\n",
              "<style>\n",
              "  .colab-df-quickchart {\n",
              "    background-color: #E8F0FE;\n",
              "    border: none;\n",
              "    border-radius: 50%;\n",
              "    cursor: pointer;\n",
              "    display: none;\n",
              "    fill: #1967D2;\n",
              "    height: 32px;\n",
              "    padding: 0 0 0 0;\n",
              "    width: 32px;\n",
              "  }\n",
              "\n",
              "  .colab-df-quickchart:hover {\n",
              "    background-color: #E2EBFA;\n",
              "    box-shadow: 0px 1px 2px rgba(60, 64, 67, 0.3), 0px 1px 3px 1px rgba(60, 64, 67, 0.15);\n",
              "    fill: #174EA6;\n",
              "  }\n",
              "\n",
              "  [theme=dark] .colab-df-quickchart {\n",
              "    background-color: #3B4455;\n",
              "    fill: #D2E3FC;\n",
              "  }\n",
              "\n",
              "  [theme=dark] .colab-df-quickchart:hover {\n",
              "    background-color: #434B5C;\n",
              "    box-shadow: 0px 1px 3px 1px rgba(0, 0, 0, 0.15);\n",
              "    filter: drop-shadow(0px 1px 2px rgba(0, 0, 0, 0.3));\n",
              "    fill: #FFFFFF;\n",
              "  }\n",
              "</style>\n",
              "\n",
              "    <script>\n",
              "      async function quickchart(key) {\n",
              "        const containerElement = document.querySelector('#' + key);\n",
              "        const charts = await google.colab.kernel.invokeFunction(\n",
              "            'suggestCharts', [key], {});\n",
              "      }\n",
              "    </script>\n",
              "\n",
              "      <script>\n",
              "\n",
              "function displayQuickchartButton(domScope) {\n",
              "  let quickchartButtonEl =\n",
              "    domScope.querySelector('#df-ccdda7cd-67fc-4209-b83c-fb9167e6fa6c button.colab-df-quickchart');\n",
              "  quickchartButtonEl.style.display =\n",
              "    google.colab.kernel.accessAllowed ? 'block' : 'none';\n",
              "}\n",
              "\n",
              "        displayQuickchartButton(document);\n",
              "      </script>\n",
              "      <style>\n",
              "    .colab-df-container {\n",
              "      display:flex;\n",
              "      flex-wrap:wrap;\n",
              "      gap: 12px;\n",
              "    }\n",
              "\n",
              "    .colab-df-convert {\n",
              "      background-color: #E8F0FE;\n",
              "      border: none;\n",
              "      border-radius: 50%;\n",
              "      cursor: pointer;\n",
              "      display: none;\n",
              "      fill: #1967D2;\n",
              "      height: 32px;\n",
              "      padding: 0 0 0 0;\n",
              "      width: 32px;\n",
              "    }\n",
              "\n",
              "    .colab-df-convert:hover {\n",
              "      background-color: #E2EBFA;\n",
              "      box-shadow: 0px 1px 2px rgba(60, 64, 67, 0.3), 0px 1px 3px 1px rgba(60, 64, 67, 0.15);\n",
              "      fill: #174EA6;\n",
              "    }\n",
              "\n",
              "    [theme=dark] .colab-df-convert {\n",
              "      background-color: #3B4455;\n",
              "      fill: #D2E3FC;\n",
              "    }\n",
              "\n",
              "    [theme=dark] .colab-df-convert:hover {\n",
              "      background-color: #434B5C;\n",
              "      box-shadow: 0px 1px 3px 1px rgba(0, 0, 0, 0.15);\n",
              "      filter: drop-shadow(0px 1px 2px rgba(0, 0, 0, 0.3));\n",
              "      fill: #FFFFFF;\n",
              "    }\n",
              "  </style>\n",
              "\n",
              "      <script>\n",
              "        const buttonEl =\n",
              "          document.querySelector('#df-8aa13558-63a4-46d2-b80c-81cf66ec4f3c button.colab-df-convert');\n",
              "        buttonEl.style.display =\n",
              "          google.colab.kernel.accessAllowed ? 'block' : 'none';\n",
              "\n",
              "        async function convertToInteractive(key) {\n",
              "          const element = document.querySelector('#df-8aa13558-63a4-46d2-b80c-81cf66ec4f3c');\n",
              "          const dataTable =\n",
              "            await google.colab.kernel.invokeFunction('convertToInteractive',\n",
              "                                                     [key], {});\n",
              "          if (!dataTable) return;\n",
              "\n",
              "          const docLinkHtml = 'Like what you see? Visit the ' +\n",
              "            '<a target=\"_blank\" href=https://colab.research.google.com/notebooks/data_table.ipynb>data table notebook</a>'\n",
              "            + ' to learn more about interactive tables.';\n",
              "          element.innerHTML = '';\n",
              "          dataTable['output_type'] = 'display_data';\n",
              "          await google.colab.output.renderOutput(dataTable, element);\n",
              "          const docLink = document.createElement('div');\n",
              "          docLink.innerHTML = docLinkHtml;\n",
              "          element.appendChild(docLink);\n",
              "        }\n",
              "      </script>\n",
              "    </div>\n",
              "  </div>\n"
            ]
          },
          "metadata": {},
          "execution_count": 10
        }
      ]
    },
    {
      "cell_type": "code",
      "source": [
        "#creando resencia en dias\n",
        "df_compra['recencia'] = (df_compra['fecha_max_compra'].max() - df_compra['fecha_max_compra']).dt.days\n",
        "df_compra.head()"
      ],
      "metadata": {
        "id": "fy07EYB_47cV",
        "colab": {
          "base_uri": "https://localhost:8080/",
          "height": 206
        },
        "outputId": "828ada81-1094-4432-ff61-8f6b686c8327"
      },
      "execution_count": 11,
      "outputs": [
        {
          "output_type": "execute_result",
          "data": {
            "text/plain": [
              "                   id_unico_cliente    fecha_max_compra  recencia\n",
              "0  0000366f3b9a7992bf8c76cfdf3221e2 2018-05-10 10:56:27       115\n",
              "1  0000b849f77a49e4a4ce2b2a4ca5be3f 2018-05-07 11:11:27       118\n",
              "2  0000f46a3911fa3c0805444483337064 2017-03-10 21:05:03       541\n",
              "3  0000f6ccb0745a6a4b88665a16c9f078 2017-10-12 20:29:41       325\n",
              "4  0004aac84e0df4da2b147fca70cf8255 2017-11-14 19:45:42       292"
            ],
            "text/html": [
              "\n",
              "\n",
              "  <div id=\"df-eceb2781-2c39-4e33-a5f6-ac0285068bdc\">\n",
              "    <div class=\"colab-df-container\">\n",
              "      <div>\n",
              "<style scoped>\n",
              "    .dataframe tbody tr th:only-of-type {\n",
              "        vertical-align: middle;\n",
              "    }\n",
              "\n",
              "    .dataframe tbody tr th {\n",
              "        vertical-align: top;\n",
              "    }\n",
              "\n",
              "    .dataframe thead th {\n",
              "        text-align: right;\n",
              "    }\n",
              "</style>\n",
              "<table border=\"1\" class=\"dataframe\">\n",
              "  <thead>\n",
              "    <tr style=\"text-align: right;\">\n",
              "      <th></th>\n",
              "      <th>id_unico_cliente</th>\n",
              "      <th>fecha_max_compra</th>\n",
              "      <th>recencia</th>\n",
              "    </tr>\n",
              "  </thead>\n",
              "  <tbody>\n",
              "    <tr>\n",
              "      <th>0</th>\n",
              "      <td>0000366f3b9a7992bf8c76cfdf3221e2</td>\n",
              "      <td>2018-05-10 10:56:27</td>\n",
              "      <td>115</td>\n",
              "    </tr>\n",
              "    <tr>\n",
              "      <th>1</th>\n",
              "      <td>0000b849f77a49e4a4ce2b2a4ca5be3f</td>\n",
              "      <td>2018-05-07 11:11:27</td>\n",
              "      <td>118</td>\n",
              "    </tr>\n",
              "    <tr>\n",
              "      <th>2</th>\n",
              "      <td>0000f46a3911fa3c0805444483337064</td>\n",
              "      <td>2017-03-10 21:05:03</td>\n",
              "      <td>541</td>\n",
              "    </tr>\n",
              "    <tr>\n",
              "      <th>3</th>\n",
              "      <td>0000f6ccb0745a6a4b88665a16c9f078</td>\n",
              "      <td>2017-10-12 20:29:41</td>\n",
              "      <td>325</td>\n",
              "    </tr>\n",
              "    <tr>\n",
              "      <th>4</th>\n",
              "      <td>0004aac84e0df4da2b147fca70cf8255</td>\n",
              "      <td>2017-11-14 19:45:42</td>\n",
              "      <td>292</td>\n",
              "    </tr>\n",
              "  </tbody>\n",
              "</table>\n",
              "</div>\n",
              "      <button class=\"colab-df-convert\" onclick=\"convertToInteractive('df-eceb2781-2c39-4e33-a5f6-ac0285068bdc')\"\n",
              "              title=\"Convert this dataframe to an interactive table.\"\n",
              "              style=\"display:none;\">\n",
              "\n",
              "  <svg xmlns=\"http://www.w3.org/2000/svg\" height=\"24px\"viewBox=\"0 0 24 24\"\n",
              "       width=\"24px\">\n",
              "    <path d=\"M0 0h24v24H0V0z\" fill=\"none\"/>\n",
              "    <path d=\"M18.56 5.44l.94 2.06.94-2.06 2.06-.94-2.06-.94-.94-2.06-.94 2.06-2.06.94zm-11 1L8.5 8.5l.94-2.06 2.06-.94-2.06-.94L8.5 2.5l-.94 2.06-2.06.94zm10 10l.94 2.06.94-2.06 2.06-.94-2.06-.94-.94-2.06-.94 2.06-2.06.94z\"/><path d=\"M17.41 7.96l-1.37-1.37c-.4-.4-.92-.59-1.43-.59-.52 0-1.04.2-1.43.59L10.3 9.45l-7.72 7.72c-.78.78-.78 2.05 0 2.83L4 21.41c.39.39.9.59 1.41.59.51 0 1.02-.2 1.41-.59l7.78-7.78 2.81-2.81c.8-.78.8-2.07 0-2.86zM5.41 20L4 18.59l7.72-7.72 1.47 1.35L5.41 20z\"/>\n",
              "  </svg>\n",
              "      </button>\n",
              "\n",
              "\n",
              "\n",
              "    <div id=\"df-78e3f87d-e645-4711-b892-c011b3f6566e\">\n",
              "      <button class=\"colab-df-quickchart\" onclick=\"quickchart('df-78e3f87d-e645-4711-b892-c011b3f6566e')\"\n",
              "              title=\"Suggest charts.\"\n",
              "              style=\"display:none;\">\n",
              "\n",
              "<svg xmlns=\"http://www.w3.org/2000/svg\" height=\"24px\"viewBox=\"0 0 24 24\"\n",
              "     width=\"24px\">\n",
              "    <g>\n",
              "        <path d=\"M19 3H5c-1.1 0-2 .9-2 2v14c0 1.1.9 2 2 2h14c1.1 0 2-.9 2-2V5c0-1.1-.9-2-2-2zM9 17H7v-7h2v7zm4 0h-2V7h2v10zm4 0h-2v-4h2v4z\"/>\n",
              "    </g>\n",
              "</svg>\n",
              "      </button>\n",
              "    </div>\n",
              "\n",
              "<style>\n",
              "  .colab-df-quickchart {\n",
              "    background-color: #E8F0FE;\n",
              "    border: none;\n",
              "    border-radius: 50%;\n",
              "    cursor: pointer;\n",
              "    display: none;\n",
              "    fill: #1967D2;\n",
              "    height: 32px;\n",
              "    padding: 0 0 0 0;\n",
              "    width: 32px;\n",
              "  }\n",
              "\n",
              "  .colab-df-quickchart:hover {\n",
              "    background-color: #E2EBFA;\n",
              "    box-shadow: 0px 1px 2px rgba(60, 64, 67, 0.3), 0px 1px 3px 1px rgba(60, 64, 67, 0.15);\n",
              "    fill: #174EA6;\n",
              "  }\n",
              "\n",
              "  [theme=dark] .colab-df-quickchart {\n",
              "    background-color: #3B4455;\n",
              "    fill: #D2E3FC;\n",
              "  }\n",
              "\n",
              "  [theme=dark] .colab-df-quickchart:hover {\n",
              "    background-color: #434B5C;\n",
              "    box-shadow: 0px 1px 3px 1px rgba(0, 0, 0, 0.15);\n",
              "    filter: drop-shadow(0px 1px 2px rgba(0, 0, 0, 0.3));\n",
              "    fill: #FFFFFF;\n",
              "  }\n",
              "</style>\n",
              "\n",
              "    <script>\n",
              "      async function quickchart(key) {\n",
              "        const containerElement = document.querySelector('#' + key);\n",
              "        const charts = await google.colab.kernel.invokeFunction(\n",
              "            'suggestCharts', [key], {});\n",
              "      }\n",
              "    </script>\n",
              "\n",
              "      <script>\n",
              "\n",
              "function displayQuickchartButton(domScope) {\n",
              "  let quickchartButtonEl =\n",
              "    domScope.querySelector('#df-78e3f87d-e645-4711-b892-c011b3f6566e button.colab-df-quickchart');\n",
              "  quickchartButtonEl.style.display =\n",
              "    google.colab.kernel.accessAllowed ? 'block' : 'none';\n",
              "}\n",
              "\n",
              "        displayQuickchartButton(document);\n",
              "      </script>\n",
              "      <style>\n",
              "    .colab-df-container {\n",
              "      display:flex;\n",
              "      flex-wrap:wrap;\n",
              "      gap: 12px;\n",
              "    }\n",
              "\n",
              "    .colab-df-convert {\n",
              "      background-color: #E8F0FE;\n",
              "      border: none;\n",
              "      border-radius: 50%;\n",
              "      cursor: pointer;\n",
              "      display: none;\n",
              "      fill: #1967D2;\n",
              "      height: 32px;\n",
              "      padding: 0 0 0 0;\n",
              "      width: 32px;\n",
              "    }\n",
              "\n",
              "    .colab-df-convert:hover {\n",
              "      background-color: #E2EBFA;\n",
              "      box-shadow: 0px 1px 2px rgba(60, 64, 67, 0.3), 0px 1px 3px 1px rgba(60, 64, 67, 0.15);\n",
              "      fill: #174EA6;\n",
              "    }\n",
              "\n",
              "    [theme=dark] .colab-df-convert {\n",
              "      background-color: #3B4455;\n",
              "      fill: #D2E3FC;\n",
              "    }\n",
              "\n",
              "    [theme=dark] .colab-df-convert:hover {\n",
              "      background-color: #434B5C;\n",
              "      box-shadow: 0px 1px 3px 1px rgba(0, 0, 0, 0.15);\n",
              "      filter: drop-shadow(0px 1px 2px rgba(0, 0, 0, 0.3));\n",
              "      fill: #FFFFFF;\n",
              "    }\n",
              "  </style>\n",
              "\n",
              "      <script>\n",
              "        const buttonEl =\n",
              "          document.querySelector('#df-eceb2781-2c39-4e33-a5f6-ac0285068bdc button.colab-df-convert');\n",
              "        buttonEl.style.display =\n",
              "          google.colab.kernel.accessAllowed ? 'block' : 'none';\n",
              "\n",
              "        async function convertToInteractive(key) {\n",
              "          const element = document.querySelector('#df-eceb2781-2c39-4e33-a5f6-ac0285068bdc');\n",
              "          const dataTable =\n",
              "            await google.colab.kernel.invokeFunction('convertToInteractive',\n",
              "                                                     [key], {});\n",
              "          if (!dataTable) return;\n",
              "\n",
              "          const docLinkHtml = 'Like what you see? Visit the ' +\n",
              "            '<a target=\"_blank\" href=https://colab.research.google.com/notebooks/data_table.ipynb>data table notebook</a>'\n",
              "            + ' to learn more about interactive tables.';\n",
              "          element.innerHTML = '';\n",
              "          dataTable['output_type'] = 'display_data';\n",
              "          await google.colab.output.renderOutput(dataTable, element);\n",
              "          const docLink = document.createElement('div');\n",
              "          docLink.innerHTML = docLinkHtml;\n",
              "          element.appendChild(docLink);\n",
              "        }\n",
              "      </script>\n",
              "    </div>\n",
              "  </div>\n"
            ]
          },
          "metadata": {},
          "execution_count": 11
        }
      ]
    },
    {
      "cell_type": "code",
      "source": [
        "#dataset unir con compras\n",
        "df_usuario = pd.merge(df_olist, df_compra[['id_unico_cliente','recencia']], on='id_unico_cliente')\n",
        "df_usuario.head()"
      ],
      "metadata": {
        "colab": {
          "base_uri": "https://localhost:8080/",
          "height": 206
        },
        "id": "VGLg1XOmQkKu",
        "outputId": "5de13c91-bb80-4ab8-8e4b-d8dce756a743"
      },
      "execution_count": 12,
      "outputs": [
        {
          "output_type": "execute_result",
          "data": {
            "text/plain": [
              "                   id_unico_cliente                        id_cliente  \\\n",
              "0  861eff4711a542e4b93843c6dd7febb0  06b8999e2fba1a1fbc88172c00ba8bc7   \n",
              "1  9eae34bbd3a474ec5d07949ca7de67c0  8912fc0c3bbf1e2fbf35819e21706718   \n",
              "2  9eae34bbd3a474ec5d07949ca7de67c0  8912fc0c3bbf1e2fbf35819e21706718   \n",
              "3  3c799d181c34d51f6d44bbbc563024db  f0ac8e5a239118859b1734e1087cbb1f   \n",
              "4  23397e992b09769faf5e66f9e171a241  6bc8d08963a135220ed6c6d098831f84   \n",
              "\n",
              "        horario_pedido  item_id  precio  recencia  \n",
              "0  2017-05-16 15:05:35        1  124.99       474  \n",
              "1  2017-11-09 00:50:13        1  112.99       298  \n",
              "2  2017-11-09 00:50:13        2  112.99       298  \n",
              "3  2017-05-07 20:11:26        1  124.99       483  \n",
              "4  2018-02-03 19:45:40        1  106.99       211  "
            ],
            "text/html": [
              "\n",
              "\n",
              "  <div id=\"df-1c554918-21d9-4232-9a45-876f01e25d7c\">\n",
              "    <div class=\"colab-df-container\">\n",
              "      <div>\n",
              "<style scoped>\n",
              "    .dataframe tbody tr th:only-of-type {\n",
              "        vertical-align: middle;\n",
              "    }\n",
              "\n",
              "    .dataframe tbody tr th {\n",
              "        vertical-align: top;\n",
              "    }\n",
              "\n",
              "    .dataframe thead th {\n",
              "        text-align: right;\n",
              "    }\n",
              "</style>\n",
              "<table border=\"1\" class=\"dataframe\">\n",
              "  <thead>\n",
              "    <tr style=\"text-align: right;\">\n",
              "      <th></th>\n",
              "      <th>id_unico_cliente</th>\n",
              "      <th>id_cliente</th>\n",
              "      <th>horario_pedido</th>\n",
              "      <th>item_id</th>\n",
              "      <th>precio</th>\n",
              "      <th>recencia</th>\n",
              "    </tr>\n",
              "  </thead>\n",
              "  <tbody>\n",
              "    <tr>\n",
              "      <th>0</th>\n",
              "      <td>861eff4711a542e4b93843c6dd7febb0</td>\n",
              "      <td>06b8999e2fba1a1fbc88172c00ba8bc7</td>\n",
              "      <td>2017-05-16 15:05:35</td>\n",
              "      <td>1</td>\n",
              "      <td>124.99</td>\n",
              "      <td>474</td>\n",
              "    </tr>\n",
              "    <tr>\n",
              "      <th>1</th>\n",
              "      <td>9eae34bbd3a474ec5d07949ca7de67c0</td>\n",
              "      <td>8912fc0c3bbf1e2fbf35819e21706718</td>\n",
              "      <td>2017-11-09 00:50:13</td>\n",
              "      <td>1</td>\n",
              "      <td>112.99</td>\n",
              "      <td>298</td>\n",
              "    </tr>\n",
              "    <tr>\n",
              "      <th>2</th>\n",
              "      <td>9eae34bbd3a474ec5d07949ca7de67c0</td>\n",
              "      <td>8912fc0c3bbf1e2fbf35819e21706718</td>\n",
              "      <td>2017-11-09 00:50:13</td>\n",
              "      <td>2</td>\n",
              "      <td>112.99</td>\n",
              "      <td>298</td>\n",
              "    </tr>\n",
              "    <tr>\n",
              "      <th>3</th>\n",
              "      <td>3c799d181c34d51f6d44bbbc563024db</td>\n",
              "      <td>f0ac8e5a239118859b1734e1087cbb1f</td>\n",
              "      <td>2017-05-07 20:11:26</td>\n",
              "      <td>1</td>\n",
              "      <td>124.99</td>\n",
              "      <td>483</td>\n",
              "    </tr>\n",
              "    <tr>\n",
              "      <th>4</th>\n",
              "      <td>23397e992b09769faf5e66f9e171a241</td>\n",
              "      <td>6bc8d08963a135220ed6c6d098831f84</td>\n",
              "      <td>2018-02-03 19:45:40</td>\n",
              "      <td>1</td>\n",
              "      <td>106.99</td>\n",
              "      <td>211</td>\n",
              "    </tr>\n",
              "  </tbody>\n",
              "</table>\n",
              "</div>\n",
              "      <button class=\"colab-df-convert\" onclick=\"convertToInteractive('df-1c554918-21d9-4232-9a45-876f01e25d7c')\"\n",
              "              title=\"Convert this dataframe to an interactive table.\"\n",
              "              style=\"display:none;\">\n",
              "\n",
              "  <svg xmlns=\"http://www.w3.org/2000/svg\" height=\"24px\"viewBox=\"0 0 24 24\"\n",
              "       width=\"24px\">\n",
              "    <path d=\"M0 0h24v24H0V0z\" fill=\"none\"/>\n",
              "    <path d=\"M18.56 5.44l.94 2.06.94-2.06 2.06-.94-2.06-.94-.94-2.06-.94 2.06-2.06.94zm-11 1L8.5 8.5l.94-2.06 2.06-.94-2.06-.94L8.5 2.5l-.94 2.06-2.06.94zm10 10l.94 2.06.94-2.06 2.06-.94-2.06-.94-.94-2.06-.94 2.06-2.06.94z\"/><path d=\"M17.41 7.96l-1.37-1.37c-.4-.4-.92-.59-1.43-.59-.52 0-1.04.2-1.43.59L10.3 9.45l-7.72 7.72c-.78.78-.78 2.05 0 2.83L4 21.41c.39.39.9.59 1.41.59.51 0 1.02-.2 1.41-.59l7.78-7.78 2.81-2.81c.8-.78.8-2.07 0-2.86zM5.41 20L4 18.59l7.72-7.72 1.47 1.35L5.41 20z\"/>\n",
              "  </svg>\n",
              "      </button>\n",
              "\n",
              "\n",
              "\n",
              "    <div id=\"df-8d87cc02-07a7-4b65-9d5b-76f5111f77cc\">\n",
              "      <button class=\"colab-df-quickchart\" onclick=\"quickchart('df-8d87cc02-07a7-4b65-9d5b-76f5111f77cc')\"\n",
              "              title=\"Suggest charts.\"\n",
              "              style=\"display:none;\">\n",
              "\n",
              "<svg xmlns=\"http://www.w3.org/2000/svg\" height=\"24px\"viewBox=\"0 0 24 24\"\n",
              "     width=\"24px\">\n",
              "    <g>\n",
              "        <path d=\"M19 3H5c-1.1 0-2 .9-2 2v14c0 1.1.9 2 2 2h14c1.1 0 2-.9 2-2V5c0-1.1-.9-2-2-2zM9 17H7v-7h2v7zm4 0h-2V7h2v10zm4 0h-2v-4h2v4z\"/>\n",
              "    </g>\n",
              "</svg>\n",
              "      </button>\n",
              "    </div>\n",
              "\n",
              "<style>\n",
              "  .colab-df-quickchart {\n",
              "    background-color: #E8F0FE;\n",
              "    border: none;\n",
              "    border-radius: 50%;\n",
              "    cursor: pointer;\n",
              "    display: none;\n",
              "    fill: #1967D2;\n",
              "    height: 32px;\n",
              "    padding: 0 0 0 0;\n",
              "    width: 32px;\n",
              "  }\n",
              "\n",
              "  .colab-df-quickchart:hover {\n",
              "    background-color: #E2EBFA;\n",
              "    box-shadow: 0px 1px 2px rgba(60, 64, 67, 0.3), 0px 1px 3px 1px rgba(60, 64, 67, 0.15);\n",
              "    fill: #174EA6;\n",
              "  }\n",
              "\n",
              "  [theme=dark] .colab-df-quickchart {\n",
              "    background-color: #3B4455;\n",
              "    fill: #D2E3FC;\n",
              "  }\n",
              "\n",
              "  [theme=dark] .colab-df-quickchart:hover {\n",
              "    background-color: #434B5C;\n",
              "    box-shadow: 0px 1px 3px 1px rgba(0, 0, 0, 0.15);\n",
              "    filter: drop-shadow(0px 1px 2px rgba(0, 0, 0, 0.3));\n",
              "    fill: #FFFFFF;\n",
              "  }\n",
              "</style>\n",
              "\n",
              "    <script>\n",
              "      async function quickchart(key) {\n",
              "        const containerElement = document.querySelector('#' + key);\n",
              "        const charts = await google.colab.kernel.invokeFunction(\n",
              "            'suggestCharts', [key], {});\n",
              "      }\n",
              "    </script>\n",
              "\n",
              "      <script>\n",
              "\n",
              "function displayQuickchartButton(domScope) {\n",
              "  let quickchartButtonEl =\n",
              "    domScope.querySelector('#df-8d87cc02-07a7-4b65-9d5b-76f5111f77cc button.colab-df-quickchart');\n",
              "  quickchartButtonEl.style.display =\n",
              "    google.colab.kernel.accessAllowed ? 'block' : 'none';\n",
              "}\n",
              "\n",
              "        displayQuickchartButton(document);\n",
              "      </script>\n",
              "      <style>\n",
              "    .colab-df-container {\n",
              "      display:flex;\n",
              "      flex-wrap:wrap;\n",
              "      gap: 12px;\n",
              "    }\n",
              "\n",
              "    .colab-df-convert {\n",
              "      background-color: #E8F0FE;\n",
              "      border: none;\n",
              "      border-radius: 50%;\n",
              "      cursor: pointer;\n",
              "      display: none;\n",
              "      fill: #1967D2;\n",
              "      height: 32px;\n",
              "      padding: 0 0 0 0;\n",
              "      width: 32px;\n",
              "    }\n",
              "\n",
              "    .colab-df-convert:hover {\n",
              "      background-color: #E2EBFA;\n",
              "      box-shadow: 0px 1px 2px rgba(60, 64, 67, 0.3), 0px 1px 3px 1px rgba(60, 64, 67, 0.15);\n",
              "      fill: #174EA6;\n",
              "    }\n",
              "\n",
              "    [theme=dark] .colab-df-convert {\n",
              "      background-color: #3B4455;\n",
              "      fill: #D2E3FC;\n",
              "    }\n",
              "\n",
              "    [theme=dark] .colab-df-convert:hover {\n",
              "      background-color: #434B5C;\n",
              "      box-shadow: 0px 1px 3px 1px rgba(0, 0, 0, 0.15);\n",
              "      filter: drop-shadow(0px 1px 2px rgba(0, 0, 0, 0.3));\n",
              "      fill: #FFFFFF;\n",
              "    }\n",
              "  </style>\n",
              "\n",
              "      <script>\n",
              "        const buttonEl =\n",
              "          document.querySelector('#df-1c554918-21d9-4232-9a45-876f01e25d7c button.colab-df-convert');\n",
              "        buttonEl.style.display =\n",
              "          google.colab.kernel.accessAllowed ? 'block' : 'none';\n",
              "\n",
              "        async function convertToInteractive(key) {\n",
              "          const element = document.querySelector('#df-1c554918-21d9-4232-9a45-876f01e25d7c');\n",
              "          const dataTable =\n",
              "            await google.colab.kernel.invokeFunction('convertToInteractive',\n",
              "                                                     [key], {});\n",
              "          if (!dataTable) return;\n",
              "\n",
              "          const docLinkHtml = 'Like what you see? Visit the ' +\n",
              "            '<a target=\"_blank\" href=https://colab.research.google.com/notebooks/data_table.ipynb>data table notebook</a>'\n",
              "            + ' to learn more about interactive tables.';\n",
              "          element.innerHTML = '';\n",
              "          dataTable['output_type'] = 'display_data';\n",
              "          await google.colab.output.renderOutput(dataTable, element);\n",
              "          const docLink = document.createElement('div');\n",
              "          docLink.innerHTML = docLinkHtml;\n",
              "          element.appendChild(docLink);\n",
              "        }\n",
              "      </script>\n",
              "    </div>\n",
              "  </div>\n"
            ]
          },
          "metadata": {},
          "execution_count": 12
        }
      ]
    },
    {
      "cell_type": "markdown",
      "source": [
        "### 2.2 Regla del codo"
      ],
      "metadata": {
        "id": "OcYNbjsa5CS1"
      }
    },
    {
      "cell_type": "markdown",
      "source": [
        "Ahora, necesitamos usar el Método del Codo, la idea es ejecutar el algoritmo KMeans para varias cantidades diferentes de clusters y así poder determinar el número ideal de clusters.\n",
        "\n",
        "A medida que aumentamos el número de clusters con KMeans, las diferencias entre los diversos clusters disminuyen y las diferencias por dentro de los clusters van aumentando. Entonces, debemos hallar un equilibrio de modo que las observaciones que conforman cada agrupación sean lo más homogéneas posible y que las diversas agrupaciones se puedan diferenciar entre sí."
      ],
      "metadata": {
        "id": "DSm9sEUk5P3u"
      }
    },
    {
      "cell_type": "markdown",
      "source": [
        "### 2.3 Codificando la Regla del Codo"
      ],
      "metadata": {
        "id": "BFjNLajD-Dvq"
      }
    },
    {
      "cell_type": "code",
      "source": [
        "from sklearn.cluster import KMeans\n",
        "\n",
        "def calcular_inercia(datos):\n",
        "  inercia = []\n",
        "  for k in range(1,10):\n",
        "    kmeans = KMeans(n_clusters=k)\n",
        "    kmeans.fit(X=datos)\n",
        "    datos['clusters'] = kmeans.labels_\n",
        "    inercia.append(kmeans.inertia_)\n",
        "\n",
        "  return inercia\n"
      ],
      "metadata": {
        "id": "dqRCJ-cI-DQH"
      },
      "execution_count": 13,
      "outputs": []
    },
    {
      "cell_type": "code",
      "source": [
        "df_recencia = df_usuario[['recencia']]\n",
        "df_recencia.head() #valores de recencia de clientes"
      ],
      "metadata": {
        "id": "zKufmBTY5MYV",
        "colab": {
          "base_uri": "https://localhost:8080/",
          "height": 206
        },
        "outputId": "be038af8-9d57-4b04-c5bd-c2b8bc0b6825"
      },
      "execution_count": 14,
      "outputs": [
        {
          "output_type": "execute_result",
          "data": {
            "text/plain": [
              "   recencia\n",
              "0       474\n",
              "1       298\n",
              "2       298\n",
              "3       483\n",
              "4       211"
            ],
            "text/html": [
              "\n",
              "\n",
              "  <div id=\"df-5bf71bb9-7f51-446e-988b-9bf181d4c36a\">\n",
              "    <div class=\"colab-df-container\">\n",
              "      <div>\n",
              "<style scoped>\n",
              "    .dataframe tbody tr th:only-of-type {\n",
              "        vertical-align: middle;\n",
              "    }\n",
              "\n",
              "    .dataframe tbody tr th {\n",
              "        vertical-align: top;\n",
              "    }\n",
              "\n",
              "    .dataframe thead th {\n",
              "        text-align: right;\n",
              "    }\n",
              "</style>\n",
              "<table border=\"1\" class=\"dataframe\">\n",
              "  <thead>\n",
              "    <tr style=\"text-align: right;\">\n",
              "      <th></th>\n",
              "      <th>recencia</th>\n",
              "    </tr>\n",
              "  </thead>\n",
              "  <tbody>\n",
              "    <tr>\n",
              "      <th>0</th>\n",
              "      <td>474</td>\n",
              "    </tr>\n",
              "    <tr>\n",
              "      <th>1</th>\n",
              "      <td>298</td>\n",
              "    </tr>\n",
              "    <tr>\n",
              "      <th>2</th>\n",
              "      <td>298</td>\n",
              "    </tr>\n",
              "    <tr>\n",
              "      <th>3</th>\n",
              "      <td>483</td>\n",
              "    </tr>\n",
              "    <tr>\n",
              "      <th>4</th>\n",
              "      <td>211</td>\n",
              "    </tr>\n",
              "  </tbody>\n",
              "</table>\n",
              "</div>\n",
              "      <button class=\"colab-df-convert\" onclick=\"convertToInteractive('df-5bf71bb9-7f51-446e-988b-9bf181d4c36a')\"\n",
              "              title=\"Convert this dataframe to an interactive table.\"\n",
              "              style=\"display:none;\">\n",
              "\n",
              "  <svg xmlns=\"http://www.w3.org/2000/svg\" height=\"24px\"viewBox=\"0 0 24 24\"\n",
              "       width=\"24px\">\n",
              "    <path d=\"M0 0h24v24H0V0z\" fill=\"none\"/>\n",
              "    <path d=\"M18.56 5.44l.94 2.06.94-2.06 2.06-.94-2.06-.94-.94-2.06-.94 2.06-2.06.94zm-11 1L8.5 8.5l.94-2.06 2.06-.94-2.06-.94L8.5 2.5l-.94 2.06-2.06.94zm10 10l.94 2.06.94-2.06 2.06-.94-2.06-.94-.94-2.06-.94 2.06-2.06.94z\"/><path d=\"M17.41 7.96l-1.37-1.37c-.4-.4-.92-.59-1.43-.59-.52 0-1.04.2-1.43.59L10.3 9.45l-7.72 7.72c-.78.78-.78 2.05 0 2.83L4 21.41c.39.39.9.59 1.41.59.51 0 1.02-.2 1.41-.59l7.78-7.78 2.81-2.81c.8-.78.8-2.07 0-2.86zM5.41 20L4 18.59l7.72-7.72 1.47 1.35L5.41 20z\"/>\n",
              "  </svg>\n",
              "      </button>\n",
              "\n",
              "\n",
              "\n",
              "    <div id=\"df-44cb291b-86c0-4a26-bd31-c85fa9dafc5c\">\n",
              "      <button class=\"colab-df-quickchart\" onclick=\"quickchart('df-44cb291b-86c0-4a26-bd31-c85fa9dafc5c')\"\n",
              "              title=\"Suggest charts.\"\n",
              "              style=\"display:none;\">\n",
              "\n",
              "<svg xmlns=\"http://www.w3.org/2000/svg\" height=\"24px\"viewBox=\"0 0 24 24\"\n",
              "     width=\"24px\">\n",
              "    <g>\n",
              "        <path d=\"M19 3H5c-1.1 0-2 .9-2 2v14c0 1.1.9 2 2 2h14c1.1 0 2-.9 2-2V5c0-1.1-.9-2-2-2zM9 17H7v-7h2v7zm4 0h-2V7h2v10zm4 0h-2v-4h2v4z\"/>\n",
              "    </g>\n",
              "</svg>\n",
              "      </button>\n",
              "    </div>\n",
              "\n",
              "<style>\n",
              "  .colab-df-quickchart {\n",
              "    background-color: #E8F0FE;\n",
              "    border: none;\n",
              "    border-radius: 50%;\n",
              "    cursor: pointer;\n",
              "    display: none;\n",
              "    fill: #1967D2;\n",
              "    height: 32px;\n",
              "    padding: 0 0 0 0;\n",
              "    width: 32px;\n",
              "  }\n",
              "\n",
              "  .colab-df-quickchart:hover {\n",
              "    background-color: #E2EBFA;\n",
              "    box-shadow: 0px 1px 2px rgba(60, 64, 67, 0.3), 0px 1px 3px 1px rgba(60, 64, 67, 0.15);\n",
              "    fill: #174EA6;\n",
              "  }\n",
              "\n",
              "  [theme=dark] .colab-df-quickchart {\n",
              "    background-color: #3B4455;\n",
              "    fill: #D2E3FC;\n",
              "  }\n",
              "\n",
              "  [theme=dark] .colab-df-quickchart:hover {\n",
              "    background-color: #434B5C;\n",
              "    box-shadow: 0px 1px 3px 1px rgba(0, 0, 0, 0.15);\n",
              "    filter: drop-shadow(0px 1px 2px rgba(0, 0, 0, 0.3));\n",
              "    fill: #FFFFFF;\n",
              "  }\n",
              "</style>\n",
              "\n",
              "    <script>\n",
              "      async function quickchart(key) {\n",
              "        const containerElement = document.querySelector('#' + key);\n",
              "        const charts = await google.colab.kernel.invokeFunction(\n",
              "            'suggestCharts', [key], {});\n",
              "      }\n",
              "    </script>\n",
              "\n",
              "      <script>\n",
              "\n",
              "function displayQuickchartButton(domScope) {\n",
              "  let quickchartButtonEl =\n",
              "    domScope.querySelector('#df-44cb291b-86c0-4a26-bd31-c85fa9dafc5c button.colab-df-quickchart');\n",
              "  quickchartButtonEl.style.display =\n",
              "    google.colab.kernel.accessAllowed ? 'block' : 'none';\n",
              "}\n",
              "\n",
              "        displayQuickchartButton(document);\n",
              "      </script>\n",
              "      <style>\n",
              "    .colab-df-container {\n",
              "      display:flex;\n",
              "      flex-wrap:wrap;\n",
              "      gap: 12px;\n",
              "    }\n",
              "\n",
              "    .colab-df-convert {\n",
              "      background-color: #E8F0FE;\n",
              "      border: none;\n",
              "      border-radius: 50%;\n",
              "      cursor: pointer;\n",
              "      display: none;\n",
              "      fill: #1967D2;\n",
              "      height: 32px;\n",
              "      padding: 0 0 0 0;\n",
              "      width: 32px;\n",
              "    }\n",
              "\n",
              "    .colab-df-convert:hover {\n",
              "      background-color: #E2EBFA;\n",
              "      box-shadow: 0px 1px 2px rgba(60, 64, 67, 0.3), 0px 1px 3px 1px rgba(60, 64, 67, 0.15);\n",
              "      fill: #174EA6;\n",
              "    }\n",
              "\n",
              "    [theme=dark] .colab-df-convert {\n",
              "      background-color: #3B4455;\n",
              "      fill: #D2E3FC;\n",
              "    }\n",
              "\n",
              "    [theme=dark] .colab-df-convert:hover {\n",
              "      background-color: #434B5C;\n",
              "      box-shadow: 0px 1px 3px 1px rgba(0, 0, 0, 0.15);\n",
              "      filter: drop-shadow(0px 1px 2px rgba(0, 0, 0, 0.3));\n",
              "      fill: #FFFFFF;\n",
              "    }\n",
              "  </style>\n",
              "\n",
              "      <script>\n",
              "        const buttonEl =\n",
              "          document.querySelector('#df-5bf71bb9-7f51-446e-988b-9bf181d4c36a button.colab-df-convert');\n",
              "        buttonEl.style.display =\n",
              "          google.colab.kernel.accessAllowed ? 'block' : 'none';\n",
              "\n",
              "        async function convertToInteractive(key) {\n",
              "          const element = document.querySelector('#df-5bf71bb9-7f51-446e-988b-9bf181d4c36a');\n",
              "          const dataTable =\n",
              "            await google.colab.kernel.invokeFunction('convertToInteractive',\n",
              "                                                     [key], {});\n",
              "          if (!dataTable) return;\n",
              "\n",
              "          const docLinkHtml = 'Like what you see? Visit the ' +\n",
              "            '<a target=\"_blank\" href=https://colab.research.google.com/notebooks/data_table.ipynb>data table notebook</a>'\n",
              "            + ' to learn more about interactive tables.';\n",
              "          element.innerHTML = '';\n",
              "          dataTable['output_type'] = 'display_data';\n",
              "          await google.colab.output.renderOutput(dataTable, element);\n",
              "          const docLink = document.createElement('div');\n",
              "          docLink.innerHTML = docLinkHtml;\n",
              "          element.appendChild(docLink);\n",
              "        }\n",
              "      </script>\n",
              "    </div>\n",
              "  </div>\n"
            ]
          },
          "metadata": {},
          "execution_count": 14
        }
      ]
    },
    {
      "cell_type": "code",
      "source": [
        "suma_cuadrados = calcular_inercia(df_recencia)"
      ],
      "metadata": {
        "id": "vegQFGvA5Mhw",
        "colab": {
          "base_uri": "https://localhost:8080/"
        },
        "outputId": "b8c3f830-6991-4c64-cb11-18f08905dfd0"
      },
      "execution_count": 15,
      "outputs": [
        {
          "output_type": "stream",
          "name": "stderr",
          "text": [
            "/usr/local/lib/python3.10/dist-packages/sklearn/cluster/_kmeans.py:870: FutureWarning: The default value of `n_init` will change from 10 to 'auto' in 1.4. Set the value of `n_init` explicitly to suppress the warning\n",
            "  warnings.warn(\n",
            "<ipython-input-13-80a854619363>:8: SettingWithCopyWarning: \n",
            "A value is trying to be set on a copy of a slice from a DataFrame.\n",
            "Try using .loc[row_indexer,col_indexer] = value instead\n",
            "\n",
            "See the caveats in the documentation: https://pandas.pydata.org/pandas-docs/stable/user_guide/indexing.html#returning-a-view-versus-a-copy\n",
            "  datos['clusters'] = kmeans.labels_\n",
            "/usr/local/lib/python3.10/dist-packages/sklearn/cluster/_kmeans.py:870: FutureWarning: The default value of `n_init` will change from 10 to 'auto' in 1.4. Set the value of `n_init` explicitly to suppress the warning\n",
            "  warnings.warn(\n",
            "<ipython-input-13-80a854619363>:8: SettingWithCopyWarning: \n",
            "A value is trying to be set on a copy of a slice from a DataFrame.\n",
            "Try using .loc[row_indexer,col_indexer] = value instead\n",
            "\n",
            "See the caveats in the documentation: https://pandas.pydata.org/pandas-docs/stable/user_guide/indexing.html#returning-a-view-versus-a-copy\n",
            "  datos['clusters'] = kmeans.labels_\n",
            "/usr/local/lib/python3.10/dist-packages/sklearn/cluster/_kmeans.py:870: FutureWarning: The default value of `n_init` will change from 10 to 'auto' in 1.4. Set the value of `n_init` explicitly to suppress the warning\n",
            "  warnings.warn(\n",
            "<ipython-input-13-80a854619363>:8: SettingWithCopyWarning: \n",
            "A value is trying to be set on a copy of a slice from a DataFrame.\n",
            "Try using .loc[row_indexer,col_indexer] = value instead\n",
            "\n",
            "See the caveats in the documentation: https://pandas.pydata.org/pandas-docs/stable/user_guide/indexing.html#returning-a-view-versus-a-copy\n",
            "  datos['clusters'] = kmeans.labels_\n",
            "/usr/local/lib/python3.10/dist-packages/sklearn/cluster/_kmeans.py:870: FutureWarning: The default value of `n_init` will change from 10 to 'auto' in 1.4. Set the value of `n_init` explicitly to suppress the warning\n",
            "  warnings.warn(\n",
            "<ipython-input-13-80a854619363>:8: SettingWithCopyWarning: \n",
            "A value is trying to be set on a copy of a slice from a DataFrame.\n",
            "Try using .loc[row_indexer,col_indexer] = value instead\n",
            "\n",
            "See the caveats in the documentation: https://pandas.pydata.org/pandas-docs/stable/user_guide/indexing.html#returning-a-view-versus-a-copy\n",
            "  datos['clusters'] = kmeans.labels_\n",
            "/usr/local/lib/python3.10/dist-packages/sklearn/cluster/_kmeans.py:870: FutureWarning: The default value of `n_init` will change from 10 to 'auto' in 1.4. Set the value of `n_init` explicitly to suppress the warning\n",
            "  warnings.warn(\n",
            "<ipython-input-13-80a854619363>:8: SettingWithCopyWarning: \n",
            "A value is trying to be set on a copy of a slice from a DataFrame.\n",
            "Try using .loc[row_indexer,col_indexer] = value instead\n",
            "\n",
            "See the caveats in the documentation: https://pandas.pydata.org/pandas-docs/stable/user_guide/indexing.html#returning-a-view-versus-a-copy\n",
            "  datos['clusters'] = kmeans.labels_\n",
            "/usr/local/lib/python3.10/dist-packages/sklearn/cluster/_kmeans.py:870: FutureWarning: The default value of `n_init` will change from 10 to 'auto' in 1.4. Set the value of `n_init` explicitly to suppress the warning\n",
            "  warnings.warn(\n",
            "<ipython-input-13-80a854619363>:8: SettingWithCopyWarning: \n",
            "A value is trying to be set on a copy of a slice from a DataFrame.\n",
            "Try using .loc[row_indexer,col_indexer] = value instead\n",
            "\n",
            "See the caveats in the documentation: https://pandas.pydata.org/pandas-docs/stable/user_guide/indexing.html#returning-a-view-versus-a-copy\n",
            "  datos['clusters'] = kmeans.labels_\n",
            "/usr/local/lib/python3.10/dist-packages/sklearn/cluster/_kmeans.py:870: FutureWarning: The default value of `n_init` will change from 10 to 'auto' in 1.4. Set the value of `n_init` explicitly to suppress the warning\n",
            "  warnings.warn(\n",
            "<ipython-input-13-80a854619363>:8: SettingWithCopyWarning: \n",
            "A value is trying to be set on a copy of a slice from a DataFrame.\n",
            "Try using .loc[row_indexer,col_indexer] = value instead\n",
            "\n",
            "See the caveats in the documentation: https://pandas.pydata.org/pandas-docs/stable/user_guide/indexing.html#returning-a-view-versus-a-copy\n",
            "  datos['clusters'] = kmeans.labels_\n",
            "/usr/local/lib/python3.10/dist-packages/sklearn/cluster/_kmeans.py:870: FutureWarning: The default value of `n_init` will change from 10 to 'auto' in 1.4. Set the value of `n_init` explicitly to suppress the warning\n",
            "  warnings.warn(\n",
            "<ipython-input-13-80a854619363>:8: SettingWithCopyWarning: \n",
            "A value is trying to be set on a copy of a slice from a DataFrame.\n",
            "Try using .loc[row_indexer,col_indexer] = value instead\n",
            "\n",
            "See the caveats in the documentation: https://pandas.pydata.org/pandas-docs/stable/user_guide/indexing.html#returning-a-view-versus-a-copy\n",
            "  datos['clusters'] = kmeans.labels_\n",
            "/usr/local/lib/python3.10/dist-packages/sklearn/cluster/_kmeans.py:870: FutureWarning: The default value of `n_init` will change from 10 to 'auto' in 1.4. Set the value of `n_init` explicitly to suppress the warning\n",
            "  warnings.warn(\n",
            "<ipython-input-13-80a854619363>:8: SettingWithCopyWarning: \n",
            "A value is trying to be set on a copy of a slice from a DataFrame.\n",
            "Try using .loc[row_indexer,col_indexer] = value instead\n",
            "\n",
            "See the caveats in the documentation: https://pandas.pydata.org/pandas-docs/stable/user_guide/indexing.html#returning-a-view-versus-a-copy\n",
            "  datos['clusters'] = kmeans.labels_\n"
          ]
        }
      ]
    },
    {
      "cell_type": "code",
      "source": [
        "plt.figure(figsize=(10,5))\n",
        "plt.plot(suma_cuadrados)\n",
        "plt.xlabel('Numero de clusters')\n",
        "plt.show()"
      ],
      "metadata": {
        "colab": {
          "base_uri": "https://localhost:8080/",
          "height": 480
        },
        "id": "mkvuhju3UGQu",
        "outputId": "fe663171-221b-4bf3-d8b1-54f628a04d3f"
      },
      "execution_count": 16,
      "outputs": [
        {
          "output_type": "display_data",
          "data": {
            "text/plain": [
              "<Figure size 1000x500 with 1 Axes>"
            ],
            "image/png": "[encoded data removed]"
          },
          "metadata": {}
        }
      ]
    },
    {
      "cell_type": "markdown",
      "source": [
        "### 2.4 Regla Matemática"
      ],
      "metadata": {
        "id": "WyEJOFr6-WOQ"
      }
    },
    {
      "cell_type": "markdown",
      "source": [
        "¿Cómo podemos identificar si el mejor número de clusters es 3, 4 o 5?\n",
        "\n",
        "¡Existe una solución matemática!\n",
        "\n",
        "\n",
        "\n",
        "> ![](https://miro.medium.com/max/2775/1*9J7Wnh5L0eIcHXBeWlzvNA.png)\n",
        "\n",
        "\n",
        "Lo primero que debemos hacer, es definir una recta conectando el primer punto (cluster 1) al último punto (cluster 9).\n",
        "\n",
        "En este caso, P0 es el punto del cluster 1 y P1 es el punto del cluster 9. El par (x,y) representa las coordenadas de cualquier punto desde el cual deseemos  calcular la distancia hasta la recta. Calculando todas las distancias, lograremos determinar el punto que indica el número ideal de clusters."
      ],
      "metadata": {
        "id": "9Naj2zBDAWV2"
      }
    },
    {
      "cell_type": "markdown",
      "source": [
        "### 2.5 Codificando la Regla Matemática"
      ],
      "metadata": {
        "id": "HpRa_DdDDsB2"
      }
    },
    {
      "cell_type": "code",
      "source": [
        "def numero_ideal_clusters(inercia):\n",
        "  x1,y1 = 2, inercia[0]\n",
        "  x2,y2 = 20,inercia[-1]\n",
        "\n",
        "  distancia = []\n",
        "\n",
        "  for i in range(len(inercia)):\n",
        "    x0 = i+2\n",
        "    y0 = inercia[i]\n",
        "\n",
        "    numerador = abs((y2-y1)*x0 - (x2-x1)*y0 + x2*y1-y2*x1)\n",
        "    denominador = ((y2-y1)**2 + (x2-x1)**2)**(1/2)\n",
        "    distancia.append(numerador/denominador)\n",
        "\n",
        "  return distancia.index(max(distancia)) + 2 # apartir de 2 por que se incia en 0"
      ],
      "metadata": {
        "id": "A-f0qRiWAccP"
      },
      "execution_count": 19,
      "outputs": []
    },
    {
      "cell_type": "code",
      "source": [
        "print(f'El numero ideal de clusters es: {numero_ideal_clusters(suma_cuadrados)}')"
      ],
      "metadata": {
        "id": "NXxfu8I3Acks",
        "colab": {
          "base_uri": "https://localhost:8080/"
        },
        "outputId": "b8f7e957-07da-4247-d1e9-8933c231186c"
      },
      "execution_count": 20,
      "outputs": [
        {
          "output_type": "stream",
          "name": "stdout",
          "text": [
            "El numero ideal de clusters es: 4\n"
          ]
        }
      ]
    },
    {
      "cell_type": "markdown",
      "source": [
        "Ejercicio de Alura"
      ],
      "metadata": {
        "id": "tfASqG2vZNZj"
      }
    },
    {
      "cell_type": "code",
      "source": [
        "g = sns.countplot(x='estado_cliente', data=df, orient='h')\n",
        "g.set_title(\"Distribución de estado de los clientes\", fontsize=20)\n",
        "g.set_xlabel(\"Estado\", fontsize=17)\n",
        "g.set_ylabel(\"Conteo\", fontsize=17)\n",
        "g.set_xticklabels(g.get_xticklabels(),rotation=45);"
      ],
      "metadata": {
        "id": "Ow_9XbyvAcwG",
        "colab": {
          "base_uri": "https://localhost:8080/",
          "height": 508
        },
        "outputId": "9364a3a5-b3cc-4adc-d692-d8343b3bef3e"
      },
      "execution_count": 22,
      "outputs": [
        {
          "output_type": "display_data",
          "data": {
            "text/plain": [
              "<Figure size 640x480 with 1 Axes>"
            ],
            "image/png": "[encoded data removed]"
          },
          "metadata": {}
        }
      ]
    },
    {
      "cell_type": "code",
      "source": [
        "# cuáles estados provienen las compras de mayor valor\n",
        "plt.figure(figsize=(20,8))\n",
        "g2 = sns.barplot(x='estado_cliente', y='precio',\n",
        "                 data=df[df['precio'] != -1])\n",
        "g2.set_title(\"Estado del Cliente\", fontsize=20)\n",
        "g2.set_xlabel(\"Estado\", fontsize=17)\n",
        "g2.set_ylabel(\"Precio\", fontsize=17)\n",
        "g2.set_xticklabels(g2.get_xticklabels(),rotation=45);\n"
      ],
      "metadata": {
        "colab": {
          "base_uri": "https://localhost:8080/",
          "height": 500
        },
        "id": "6D_yst9rZa1Q",
        "outputId": "b9560a51-9932-45c5-c513-4763f7ad393f"
      },
      "execution_count": 24,
      "outputs": [
        {
          "output_type": "display_data",
          "data": {
            "text/plain": [
              "<Figure size 2000x800 with 1 Axes>"
            ],
            "image/png": "[encoded data removed]"
          },
          "metadata": {}
        }
      ]
    },
    {
      "cell_type": "code",
      "source": [
        "#cuáles estados tienen mayor costo de envío\n",
        "\n",
        "plt.figure(figsize=(20,8))\n",
        "g3 = sns.barplot(x='estado_cliente', y='precio_envio',\n",
        "                 data=df[df['precio_envio'] != -1])\n",
        "g3.set_title(\"Estado del cliente por costo de envío\", fontsize=20)\n",
        "g3.set_xlabel(\"Estado del Cliente\", fontsize=17)\n",
        "g3.set_ylabel(\"Envío\", fontsize=17)\n",
        "g3.set_xticklabels(g3.get_xticklabels(),rotation=45);"
      ],
      "metadata": {
        "colab": {
          "base_uri": "https://localhost:8080/",
          "height": 503
        },
        "id": "vGH1gKelZmsC",
        "outputId": "d4d3c03c-5b53-433f-9a0b-0242775d5ef6"
      },
      "execution_count": 26,
      "outputs": [
        {
          "output_type": "display_data",
          "data": {
            "text/plain": [
              "<Figure size 2000x800 with 1 Axes>"
            ],
            "image/png": "[encoded data removed]"
          },
          "metadata": {}
        }
      ]
    },
    {
      "cell_type": "markdown",
      "source": [
        "Lo que aprendimos en esta aula:\n",
        "\n",
        "El modelo RFM (recencia, frecuencia e ingresos);\n",
        "\n",
        "Cómo funciona el algoritmo k-means;\n",
        "\n",
        "Cómo usar la regla del codo para definir el número de clusters;\n",
        "\n",
        "Cómo usar una regla matemática para confirmar el número ideal de clusters."
      ],
      "metadata": {
        "id": "1Kb5UKKlaP0R"
      }
    },
    {
      "cell_type": "markdown",
      "source": [
        "## Aula 3"
      ],
      "metadata": {
        "id": "WsqJaPafEBvb"
      }
    },
    {
      "cell_type": "markdown",
      "source": [
        "### 3.1 Clusterizando la Recencia"
      ],
      "metadata": {
        "id": "hCbGgwnPEKfT"
      }
    },
    {
      "cell_type": "code",
      "source": [],
      "metadata": {
        "id": "dH4qU53OElSv"
      },
      "execution_count": null,
      "outputs": []
    },
    {
      "cell_type": "code",
      "source": [],
      "metadata": {
        "id": "kebWVGIhElVI"
      },
      "execution_count": null,
      "outputs": []
    },
    {
      "cell_type": "code",
      "source": [],
      "metadata": {
        "id": "nVNqOlrpElXt"
      },
      "execution_count": null,
      "outputs": []
    },
    {
      "cell_type": "markdown",
      "source": [
        "### 3.2 Clusterizando la Frecuencia"
      ],
      "metadata": {
        "id": "4_bfcgiSEnXl"
      }
    },
    {
      "cell_type": "code",
      "source": [],
      "metadata": {
        "id": "4-_owH_VElbF"
      },
      "execution_count": null,
      "outputs": []
    },
    {
      "cell_type": "code",
      "source": [],
      "metadata": {
        "id": "T1mWCPo3EuF1"
      },
      "execution_count": null,
      "outputs": []
    },
    {
      "cell_type": "code",
      "source": [],
      "metadata": {
        "id": "TNz0dE4aEuJc"
      },
      "execution_count": null,
      "outputs": []
    },
    {
      "cell_type": "markdown",
      "source": [
        "### 3.3 Clusterizando el Valor Monetario (Ingresos)"
      ],
      "metadata": {
        "id": "Ova3cH6QEujL"
      }
    },
    {
      "cell_type": "code",
      "source": [],
      "metadata": {
        "id": "Jw8uGspnFRPx"
      },
      "execution_count": null,
      "outputs": []
    },
    {
      "cell_type": "code",
      "source": [],
      "metadata": {
        "id": "Tjb-5OhwFRSe"
      },
      "execution_count": null,
      "outputs": []
    },
    {
      "cell_type": "code",
      "source": [],
      "metadata": {
        "id": "bQ0CaW86FRdf"
      },
      "execution_count": null,
      "outputs": []
    },
    {
      "cell_type": "markdown",
      "source": [
        "## Aula 4"
      ],
      "metadata": {
        "id": "x4NfS6DNFRyo"
      }
    },
    {
      "cell_type": "markdown",
      "source": [
        "### 4.1 Creando la puntuación"
      ],
      "metadata": {
        "id": "6mF5OMwGFTuu"
      }
    },
    {
      "cell_type": "code",
      "source": [],
      "metadata": {
        "id": "UIlD8kvgFlfC"
      },
      "execution_count": null,
      "outputs": []
    },
    {
      "cell_type": "code",
      "source": [],
      "metadata": {
        "id": "ZAThR7ReFlhv"
      },
      "execution_count": null,
      "outputs": []
    },
    {
      "cell_type": "code",
      "source": [],
      "metadata": {
        "id": "-3kNF6iKFlka"
      },
      "execution_count": null,
      "outputs": []
    },
    {
      "cell_type": "markdown",
      "source": [
        "### 4.2 Análisis visual de los resultados"
      ],
      "metadata": {
        "id": "RtO2IpGDFmpY"
      }
    },
    {
      "cell_type": "code",
      "source": [],
      "metadata": {
        "id": "GftxrZ3WGEMa"
      },
      "execution_count": null,
      "outputs": []
    },
    {
      "cell_type": "code",
      "source": [],
      "metadata": {
        "id": "lQhEdPXOGEPg"
      },
      "execution_count": null,
      "outputs": []
    },
    {
      "cell_type": "code",
      "source": [],
      "metadata": {
        "id": "oepSAXfkGER4"
      },
      "execution_count": null,
      "outputs": []
    }
  ]
}