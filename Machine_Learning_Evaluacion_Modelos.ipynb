{
  "nbformat": 4,
  "nbformat_minor": 0,
  "metadata": {
    "colab": {
      "provenance": [],
      "include_colab_link": true
    },
    "kernelspec": {
      "name": "python3",
      "display_name": "Python 3"
    }
  },
  "cells": [
    {
      "cell_type": "markdown",
      "metadata": {
        "id": "view-in-github",
        "colab_type": "text"
      },
      "source": [
        "<a href=\"https://colab.research.google.com/github/AdrianCPC/Profundizacion_Data_Analysis/blob/main/Machine_Learning_Evaluacion_Modelos.ipynb\" target=\"_parent\"><img src=\"https://colab.research.google.com/assets/colab-badge.svg\" alt=\"Open In Colab\"/></a>"
      ]
    },
    {
      "cell_type": "code",
      "metadata": {
        "id": "OT__Z1j81_KL",
        "colab": {
          "base_uri": "https://localhost:8080/",
          "height": 206
        },
        "outputId": "ae696c46-f7e2-4bd5-d4ac-e64cb7714019"
      },
      "source": [
        "import pandas as pd\n",
        "\n",
        "uri = \"https://gist.githubusercontent.com/jessicadesousa/56ac5efd1b9f2a06ef503485e904a203/raw/d829a7204ad55506644f4a7058090c84424217e7/machine-learning-carros-simulacion.csv\"\n",
        "datos = pd.read_csv(uri)\n",
        "datos.head()"
      ],
      "execution_count": 1,
      "outputs": [
        {
          "output_type": "execute_result",
          "data": {
            "text/plain": [
              "      precio  vendido  edad_del_modelo   km_por_ano\n",
              "0   30941.02        1               18  35085.22134\n",
              "1   40557.96        1               20  12622.05362\n",
              "2   89627.50        0               12  11440.79806\n",
              "3   95276.14        0                3  43167.32682\n",
              "4  117384.68        1                4  12770.11290"
            ],
            "text/html": [
              "\n",
              "\n",
              "  <div id=\"df-db9a224b-72d5-4f98-9762-1ca54212e565\">\n",
              "    <div class=\"colab-df-container\">\n",
              "      <div>\n",
              "<style scoped>\n",
              "    .dataframe tbody tr th:only-of-type {\n",
              "        vertical-align: middle;\n",
              "    }\n",
              "\n",
              "    .dataframe tbody tr th {\n",
              "        vertical-align: top;\n",
              "    }\n",
              "\n",
              "    .dataframe thead th {\n",
              "        text-align: right;\n",
              "    }\n",
              "</style>\n",
              "<table border=\"1\" class=\"dataframe\">\n",
              "  <thead>\n",
              "    <tr style=\"text-align: right;\">\n",
              "      <th></th>\n",
              "      <th>precio</th>\n",
              "      <th>vendido</th>\n",
              "      <th>edad_del_modelo</th>\n",
              "      <th>km_por_ano</th>\n",
              "    </tr>\n",
              "  </thead>\n",
              "  <tbody>\n",
              "    <tr>\n",
              "      <th>0</th>\n",
              "      <td>30941.02</td>\n",
              "      <td>1</td>\n",
              "      <td>18</td>\n",
              "      <td>35085.22134</td>\n",
              "    </tr>\n",
              "    <tr>\n",
              "      <th>1</th>\n",
              "      <td>40557.96</td>\n",
              "      <td>1</td>\n",
              "      <td>20</td>\n",
              "      <td>12622.05362</td>\n",
              "    </tr>\n",
              "    <tr>\n",
              "      <th>2</th>\n",
              "      <td>89627.50</td>\n",
              "      <td>0</td>\n",
              "      <td>12</td>\n",
              "      <td>11440.79806</td>\n",
              "    </tr>\n",
              "    <tr>\n",
              "      <th>3</th>\n",
              "      <td>95276.14</td>\n",
              "      <td>0</td>\n",
              "      <td>3</td>\n",
              "      <td>43167.32682</td>\n",
              "    </tr>\n",
              "    <tr>\n",
              "      <th>4</th>\n",
              "      <td>117384.68</td>\n",
              "      <td>1</td>\n",
              "      <td>4</td>\n",
              "      <td>12770.11290</td>\n",
              "    </tr>\n",
              "  </tbody>\n",
              "</table>\n",
              "</div>\n",
              "      <button class=\"colab-df-convert\" onclick=\"convertToInteractive('df-db9a224b-72d5-4f98-9762-1ca54212e565')\"\n",
              "              title=\"Convert this dataframe to an interactive table.\"\n",
              "              style=\"display:none;\">\n",
              "\n",
              "  <svg xmlns=\"http://www.w3.org/2000/svg\" height=\"24px\"viewBox=\"0 0 24 24\"\n",
              "       width=\"24px\">\n",
              "    <path d=\"M0 0h24v24H0V0z\" fill=\"none\"/>\n",
              "    <path d=\"M18.56 5.44l.94 2.06.94-2.06 2.06-.94-2.06-.94-.94-2.06-.94 2.06-2.06.94zm-11 1L8.5 8.5l.94-2.06 2.06-.94-2.06-.94L8.5 2.5l-.94 2.06-2.06.94zm10 10l.94 2.06.94-2.06 2.06-.94-2.06-.94-.94-2.06-.94 2.06-2.06.94z\"/><path d=\"M17.41 7.96l-1.37-1.37c-.4-.4-.92-.59-1.43-.59-.52 0-1.04.2-1.43.59L10.3 9.45l-7.72 7.72c-.78.78-.78 2.05 0 2.83L4 21.41c.39.39.9.59 1.41.59.51 0 1.02-.2 1.41-.59l7.78-7.78 2.81-2.81c.8-.78.8-2.07 0-2.86zM5.41 20L4 18.59l7.72-7.72 1.47 1.35L5.41 20z\"/>\n",
              "  </svg>\n",
              "      </button>\n",
              "\n",
              "\n",
              "\n",
              "    <div id=\"df-3a95a8ae-8878-40d3-be04-539c51dd9081\">\n",
              "      <button class=\"colab-df-quickchart\" onclick=\"quickchart('df-3a95a8ae-8878-40d3-be04-539c51dd9081')\"\n",
              "              title=\"Suggest charts.\"\n",
              "              style=\"display:none;\">\n",
              "\n",
              "<svg xmlns=\"http://www.w3.org/2000/svg\" height=\"24px\"viewBox=\"0 0 24 24\"\n",
              "     width=\"24px\">\n",
              "    <g>\n",
              "        <path d=\"M19 3H5c-1.1 0-2 .9-2 2v14c0 1.1.9 2 2 2h14c1.1 0 2-.9 2-2V5c0-1.1-.9-2-2-2zM9 17H7v-7h2v7zm4 0h-2V7h2v10zm4 0h-2v-4h2v4z\"/>\n",
              "    </g>\n",
              "</svg>\n",
              "      </button>\n",
              "    </div>\n",
              "\n",
              "<style>\n",
              "  .colab-df-quickchart {\n",
              "    background-color: #E8F0FE;\n",
              "    border: none;\n",
              "    border-radius: 50%;\n",
              "    cursor: pointer;\n",
              "    display: none;\n",
              "    fill: #1967D2;\n",
              "    height: 32px;\n",
              "    padding: 0 0 0 0;\n",
              "    width: 32px;\n",
              "  }\n",
              "\n",
              "  .colab-df-quickchart:hover {\n",
              "    background-color: #E2EBFA;\n",
              "    box-shadow: 0px 1px 2px rgba(60, 64, 67, 0.3), 0px 1px 3px 1px rgba(60, 64, 67, 0.15);\n",
              "    fill: #174EA6;\n",
              "  }\n",
              "\n",
              "  [theme=dark] .colab-df-quickchart {\n",
              "    background-color: #3B4455;\n",
              "    fill: #D2E3FC;\n",
              "  }\n",
              "\n",
              "  [theme=dark] .colab-df-quickchart:hover {\n",
              "    background-color: #434B5C;\n",
              "    box-shadow: 0px 1px 3px 1px rgba(0, 0, 0, 0.15);\n",
              "    filter: drop-shadow(0px 1px 2px rgba(0, 0, 0, 0.3));\n",
              "    fill: #FFFFFF;\n",
              "  }\n",
              "</style>\n",
              "\n",
              "    <script>\n",
              "      async function quickchart(key) {\n",
              "        const containerElement = document.querySelector('#' + key);\n",
              "        const charts = await google.colab.kernel.invokeFunction(\n",
              "            'suggestCharts', [key], {});\n",
              "      }\n",
              "    </script>\n",
              "\n",
              "      <script>\n",
              "\n",
              "function displayQuickchartButton(domScope) {\n",
              "  let quickchartButtonEl =\n",
              "    domScope.querySelector('#df-3a95a8ae-8878-40d3-be04-539c51dd9081 button.colab-df-quickchart');\n",
              "  quickchartButtonEl.style.display =\n",
              "    google.colab.kernel.accessAllowed ? 'block' : 'none';\n",
              "}\n",
              "\n",
              "        displayQuickchartButton(document);\n",
              "      </script>\n",
              "      <style>\n",
              "    .colab-df-container {\n",
              "      display:flex;\n",
              "      flex-wrap:wrap;\n",
              "      gap: 12px;\n",
              "    }\n",
              "\n",
              "    .colab-df-convert {\n",
              "      background-color: #E8F0FE;\n",
              "      border: none;\n",
              "      border-radius: 50%;\n",
              "      cursor: pointer;\n",
              "      display: none;\n",
              "      fill: #1967D2;\n",
              "      height: 32px;\n",
              "      padding: 0 0 0 0;\n",
              "      width: 32px;\n",
              "    }\n",
              "\n",
              "    .colab-df-convert:hover {\n",
              "      background-color: #E2EBFA;\n",
              "      box-shadow: 0px 1px 2px rgba(60, 64, 67, 0.3), 0px 1px 3px 1px rgba(60, 64, 67, 0.15);\n",
              "      fill: #174EA6;\n",
              "    }\n",
              "\n",
              "    [theme=dark] .colab-df-convert {\n",
              "      background-color: #3B4455;\n",
              "      fill: #D2E3FC;\n",
              "    }\n",
              "\n",
              "    [theme=dark] .colab-df-convert:hover {\n",
              "      background-color: #434B5C;\n",
              "      box-shadow: 0px 1px 3px 1px rgba(0, 0, 0, 0.15);\n",
              "      filter: drop-shadow(0px 1px 2px rgba(0, 0, 0, 0.3));\n",
              "      fill: #FFFFFF;\n",
              "    }\n",
              "  </style>\n",
              "\n",
              "      <script>\n",
              "        const buttonEl =\n",
              "          document.querySelector('#df-db9a224b-72d5-4f98-9762-1ca54212e565 button.colab-df-convert');\n",
              "        buttonEl.style.display =\n",
              "          google.colab.kernel.accessAllowed ? 'block' : 'none';\n",
              "\n",
              "        async function convertToInteractive(key) {\n",
              "          const element = document.querySelector('#df-db9a224b-72d5-4f98-9762-1ca54212e565');\n",
              "          const dataTable =\n",
              "            await google.colab.kernel.invokeFunction('convertToInteractive',\n",
              "                                                     [key], {});\n",
              "          if (!dataTable) return;\n",
              "\n",
              "          const docLinkHtml = 'Like what you see? Visit the ' +\n",
              "            '<a target=\"_blank\" href=https://colab.research.google.com/notebooks/data_table.ipynb>data table notebook</a>'\n",
              "            + ' to learn more about interactive tables.';\n",
              "          element.innerHTML = '';\n",
              "          dataTable['output_type'] = 'display_data';\n",
              "          await google.colab.output.renderOutput(dataTable, element);\n",
              "          const docLink = document.createElement('div');\n",
              "          docLink.innerHTML = docLinkHtml;\n",
              "          element.appendChild(docLink);\n",
              "        }\n",
              "      </script>\n",
              "    </div>\n",
              "  </div>\n"
            ]
          },
          "metadata": {},
          "execution_count": 1
        }
      ]
    },
    {
      "cell_type": "code",
      "metadata": {
        "id": "4K_cO3OY2Wps",
        "colab": {
          "base_uri": "https://localhost:8080/"
        },
        "outputId": "457252bc-b69a-45ee-8e2a-abe13a114cc2"
      },
      "source": [
        "import numpy as np\n",
        "from sklearn.model_selection import train_test_split\n",
        "from sklearn.metrics import accuracy_score\n",
        "\n",
        "x = datos[[\"precio\", \"edad_del_modelo\", \"km_por_ano\"]]\n",
        "y = datos[\"vendido\"]\n",
        "\n",
        "SEED = 158020\n",
        "np.random.seed(SEED)\n",
        "\n",
        "train_x, test_x, train_y, test_y = train_test_split(x, y,\n",
        "                                                    test_size = 0.25,\n",
        "                                                    stratify = y)\n",
        "\n",
        "print(\"Entrenaremos con %d elementos y evaluaremos con %d elementos\" %(len(train_x), len(test_y)))"
      ],
      "execution_count": 2,
      "outputs": [
        {
          "output_type": "stream",
          "name": "stdout",
          "text": [
            "Entrenaremos con 7500 elementos y evaluaremos con 2500 elementos\n"
          ]
        }
      ]
    },
    {
      "cell_type": "code",
      "metadata": {
        "id": "-5J1gAVv3gsD",
        "colab": {
          "base_uri": "https://localhost:8080/"
        },
        "outputId": "8bbf1233-5452-4651-c605-02cb782f9d2b"
      },
      "source": [
        "from sklearn.dummy import DummyClassifier\n",
        "\n",
        "dummy_stratified = DummyClassifier(strategy=\"stratified\")\n",
        "dummy_stratified.fit(train_x, train_y)\n",
        "accuracy = dummy_stratified.score(test_x, test_y) * 100\n",
        "\n",
        "print(\"La exactitud(accuracy) del dummy stratified fue %.2f%%\" % accuracy)"
      ],
      "execution_count": 3,
      "outputs": [
        {
          "output_type": "stream",
          "name": "stdout",
          "text": [
            "La exactitud(accuracy) del dummy stratified fue 50.96%\n"
          ]
        }
      ]
    },
    {
      "cell_type": "code",
      "metadata": {
        "id": "mPdliMf45C-x",
        "colab": {
          "base_uri": "https://localhost:8080/"
        },
        "outputId": "ea00995c-6aec-451e-e6db-b65ef3ea9b0d"
      },
      "source": [
        "from sklearn.tree import DecisionTreeClassifier\n",
        "\n",
        "SEED = 158020\n",
        "np.random.seed(SEED)\n",
        "\n",
        "modelo = DecisionTreeClassifier(max_depth=2)\n",
        "modelo.fit(train_x, train_y)\n",
        "\n",
        "predicciones = modelo.predict(test_x)\n",
        "\n",
        "accuracy = accuracy_score(test_y, predicciones) * 100\n",
        "print(\"La exactitud(accuracy) fue %.2f%%\" % accuracy)"
      ],
      "execution_count": 4,
      "outputs": [
        {
          "output_type": "stream",
          "name": "stdout",
          "text": [
            "La exactitud(accuracy) fue 71.92%\n"
          ]
        }
      ]
    },
    {
      "cell_type": "code",
      "metadata": {
        "colab": {
          "base_uri": "https://localhost:8080/"
        },
        "id": "iI4yVF8hF1FE",
        "outputId": "82366a32-4526-442e-ff28-ee3279ce1ab7"
      },
      "source": [
        "SEED = 5\n",
        "np.random.seed(SEED)\n",
        "\n",
        "train_x, test_x, train_y, test_y = train_test_split(x, y,\n",
        "                                                    test_size = 0.25,\n",
        "                                                    stratify = y)\n",
        "\n",
        "modelo = DecisionTreeClassifier(max_depth=2)\n",
        "modelo.fit(train_x, train_y)\n",
        "\n",
        "predicciones = modelo.predict(test_x)\n",
        "\n",
        "accuracy = accuracy_score(test_y, predicciones) * 100\n",
        "print(\"La exactitud(accuracy) fue %.2f%%\" % accuracy)"
      ],
      "execution_count": 5,
      "outputs": [
        {
          "output_type": "stream",
          "name": "stdout",
          "text": [
            "La exactitud(accuracy) fue 76.84%\n"
          ]
        }
      ]
    },
    {
      "cell_type": "code",
      "source": [
        "#Usando el estimador cross_validate\n",
        "\n",
        "from sklearn.model_selection import cross_validate\n",
        "\n",
        "modelo = DecisionTreeClassifier(max_depth=2)\n",
        "resultados = cross_validate(modelo,x,y,cv=3) #cv crossvalidate los separa en tres partes\n",
        "media = resultados['test_score'].mean() #se busca el test_score\n",
        "desviacion_estandar = resultados['test_score'].std()\n",
        "\n",
        "print(\"Nuestro intervalo de confianza para cv = 3 es [%.2f,%.2f]\" %((media - 2*desviacion_estandar)*100, (media + 2*desviacion_estandar)*100))"
      ],
      "metadata": {
        "colab": {
          "base_uri": "https://localhost:8080/"
        },
        "id": "t2pTOJcLOGry",
        "outputId": "e32cd1ce-38fa-4c88-fd76-4225cd13636a"
      },
      "execution_count": 6,
      "outputs": [
        {
          "output_type": "stream",
          "name": "stdout",
          "text": [
            "Nuestro intervalo de confianza para cv = 3 es [74.99,76.57]\n"
          ]
        }
      ]
    },
    {
      "cell_type": "code",
      "source": [
        "\n",
        "resultados = cross_validate(modelo,x,y,cv=5) #cv crossvalidate los separa en cinco partes\n",
        "media = resultados['test_score'].mean() #se busca el test_score\n",
        "desviacion_estandar = resultados['test_score'].std()\n",
        "\n",
        "print(\"Nuestro intervalo de confianza para cv = 3 es [%.2f,%.2f]\" %((media - 2*desviacion_estandar)*100, (media + 2*desviacion_estandar)*100))"
      ],
      "metadata": {
        "colab": {
          "base_uri": "https://localhost:8080/"
        },
        "id": "F_CcVd8MOzcY",
        "outputId": "3966cfb7-3be8-43c2-da13-4b80c6d619be"
      },
      "execution_count": 7,
      "outputs": [
        {
          "output_type": "stream",
          "name": "stdout",
          "text": [
            "Nuestro intervalo de confianza para cv = 3 es [75.21,76.35]\n"
          ]
        }
      ]
    },
    {
      "cell_type": "code",
      "source": [
        "\n",
        "resultados = cross_validate(modelo,x,y,cv=10) #cv crossvalidate los separa en diez partes\n",
        "media = resultados['test_score'].mean() #se busca el test_score\n",
        "desviacion_estandar = resultados['test_score'].std()\n",
        "\n",
        "print(\"Nuestro intervalo de confianza para cv = 3 es [%.2f,%.2f]\" %((media - 2*desviacion_estandar)*100, (media + 2*desviacion_estandar)*100))"
      ],
      "metadata": {
        "colab": {
          "base_uri": "https://localhost:8080/"
        },
        "id": "8hQ5zsfvQkb7",
        "outputId": "26ba7e84-96d5-413e-d1ba-8a71dae6314b"
      },
      "execution_count": 8,
      "outputs": [
        {
          "output_type": "stream",
          "name": "stdout",
          "text": [
            "Nuestro intervalo de confianza para cv = 3 es [74.24,77.32]\n"
          ]
        }
      ]
    },
    {
      "cell_type": "markdown",
      "source": [
        "Lo que aprendimos en esta aula:\n",
        "\n",
        "Subir un notebook .ipynb para google colab.\n",
        "\n",
        "Utilizar el método read_csv de pandas.\n",
        "\n",
        "Qué es validación cruzada (cross validation).\n",
        "\n",
        "Utilizar std para saber desviación estándar.\n",
        "\n",
        "Árbol de clasificación."
      ],
      "metadata": {
        "id": "V2oy0arVQ_cC"
      }
    },
    {
      "cell_type": "code",
      "source": [
        "from sklearn.model_selection import KFold\n",
        "\n",
        "\n",
        "SEED = 123\n",
        "np.random.seed(SEED)\n",
        "\n",
        "cv= KFold(n_splits=10)\n",
        "\n",
        "modelo = DecisionTreeClassifier(max_depth=2)\n",
        "\n",
        "resultados = cross_validate(modelo,x,y,cv=cv)\n",
        "media = resultados['test_score'].mean() #se busca el test_score\n",
        "desviacion_estandar = resultados['test_score'].std()\n",
        "\n",
        "\n",
        "\n",
        "print(\"Nuestro intervalo de confianza para cv = 3 es [%.2f,%.2f]\" %((media - 2*desviacion_estandar)*100, (media + 2*desviacion_estandar)*100))"
      ],
      "metadata": {
        "colab": {
          "base_uri": "https://localhost:8080/"
        },
        "id": "s7ZBvuGcQoqo",
        "outputId": "2c97b99d-8702-4252-b999-44c881517ae8"
      },
      "execution_count": 9,
      "outputs": [
        {
          "output_type": "stream",
          "name": "stdout",
          "text": [
            "Nuestro intervalo de confianza para cv = 3 es [74.37,77.19]\n"
          ]
        }
      ]
    },
    {
      "cell_type": "code",
      "source": [
        "def imprime_resultados(resultados):\n",
        "  media = resultados['test_score'].mean()\n",
        "  desviacion_estandar = resultados['test_score'].std()\n",
        "\n",
        "\n",
        "  print(\"Nuestra media es %.2f\"%(media*100))\n",
        "  print(\"Nuestro intervalo de confianza es [%.2f,%.2f]\" %((media - 2*desviacion_estandar)*100, (media + 2*desviacion_estandar)*100))"
      ],
      "metadata": {
        "id": "FPMFPNPJToTL"
      },
      "execution_count": 10,
      "outputs": []
    },
    {
      "cell_type": "code",
      "source": [
        "\n",
        "SEED = 123\n",
        "np.random.seed(SEED)\n",
        "\n",
        "cv= KFold(n_splits=10)\n",
        "\n",
        "modelo = DecisionTreeClassifier(max_depth=2)\n",
        "\n",
        "resultados = cross_validate(modelo,x,y,cv=cv)\n",
        "imprime_resultados(resultados)"
      ],
      "metadata": {
        "colab": {
          "base_uri": "https://localhost:8080/"
        },
        "id": "eLizGlE0URwM",
        "outputId": "72c60741-cc98-463a-e6e0-6534dcdc7f5a"
      },
      "execution_count": 11,
      "outputs": [
        {
          "output_type": "stream",
          "name": "stdout",
          "text": [
            "Nuestra media es 75.78\n",
            "Nuestro intervalo de confianza es [74.37,77.19]\n"
          ]
        }
      ]
    },
    {
      "cell_type": "code",
      "source": [
        "SEED = 123\n",
        "np.random.seed(SEED)\n",
        "\n",
        "cv= KFold(n_splits=10, shuffle=True) #desordenar los datos\n",
        "\n",
        "modelo = DecisionTreeClassifier(max_depth=2)\n",
        "\n",
        "resultados = cross_validate(modelo,x,y,cv=cv)\n",
        "imprime_resultados(resultados)"
      ],
      "metadata": {
        "colab": {
          "base_uri": "https://localhost:8080/"
        },
        "id": "jMjym9wVUb15",
        "outputId": "e32bb38e-a74d-46d6-9ba5-e8f34d6d4849"
      },
      "execution_count": 12,
      "outputs": [
        {
          "output_type": "stream",
          "name": "stdout",
          "text": [
            "Nuestra media es 75.79\n",
            "Nuestro intervalo de confianza es [72.01,79.57]\n"
          ]
        }
      ]
    },
    {
      "cell_type": "markdown",
      "source": [
        "Lo que aprendimos en esta aula:\n",
        "\n",
        "Utilizar el método KFold para desordenar (shuffle) los datos."
      ],
      "metadata": {
        "id": "DaRHPaF8ViZB"
      }
    },
    {
      "cell_type": "markdown",
      "source": [
        "#Simulacion de datos simulados - mala suerte"
      ],
      "metadata": {
        "id": "ASyxNjK1h4V0"
      }
    },
    {
      "cell_type": "code",
      "source": [
        "datos_ordenados = datos.sort_values(by=\"vendido\", ascending=True)\n",
        "x_ordenados = datos_ordenados[[\"precio\",\"edad_del_modelo\",\"km_por_ano\"]]\n",
        "y_ordenados = datos_ordenados[\"vendido\"]\n",
        "\n",
        "datos_ordenados.head()"
      ],
      "metadata": {
        "colab": {
          "base_uri": "https://localhost:8080/",
          "height": 206
        },
        "id": "IZvtIKvphzcP",
        "outputId": "c6786332-a4a0-44cc-cff6-b889acc0e631"
      },
      "execution_count": 15,
      "outputs": [
        {
          "output_type": "execute_result",
          "data": {
            "text/plain": [
              "        precio  vendido  edad_del_modelo   km_por_ano\n",
              "4999  74023.29        0               12  24812.80412\n",
              "5322  84843.49        0               13  23095.63834\n",
              "5319  83100.27        0               19  36240.72746\n",
              "5316  87932.13        0               16  32249.56426\n",
              "5315  77937.01        0               15  28414.50704"
            ],
            "text/html": [
              "\n",
              "\n",
              "  <div id=\"df-783fda58-4d8c-42b8-8252-07156b256de2\">\n",
              "    <div class=\"colab-df-container\">\n",
              "      <div>\n",
              "<style scoped>\n",
              "    .dataframe tbody tr th:only-of-type {\n",
              "        vertical-align: middle;\n",
              "    }\n",
              "\n",
              "    .dataframe tbody tr th {\n",
              "        vertical-align: top;\n",
              "    }\n",
              "\n",
              "    .dataframe thead th {\n",
              "        text-align: right;\n",
              "    }\n",
              "</style>\n",
              "<table border=\"1\" class=\"dataframe\">\n",
              "  <thead>\n",
              "    <tr style=\"text-align: right;\">\n",
              "      <th></th>\n",
              "      <th>precio</th>\n",
              "      <th>vendido</th>\n",
              "      <th>edad_del_modelo</th>\n",
              "      <th>km_por_ano</th>\n",
              "    </tr>\n",
              "  </thead>\n",
              "  <tbody>\n",
              "    <tr>\n",
              "      <th>4999</th>\n",
              "      <td>74023.29</td>\n",
              "      <td>0</td>\n",
              "      <td>12</td>\n",
              "      <td>24812.80412</td>\n",
              "    </tr>\n",
              "    <tr>\n",
              "      <th>5322</th>\n",
              "      <td>84843.49</td>\n",
              "      <td>0</td>\n",
              "      <td>13</td>\n",
              "      <td>23095.63834</td>\n",
              "    </tr>\n",
              "    <tr>\n",
              "      <th>5319</th>\n",
              "      <td>83100.27</td>\n",
              "      <td>0</td>\n",
              "      <td>19</td>\n",
              "      <td>36240.72746</td>\n",
              "    </tr>\n",
              "    <tr>\n",
              "      <th>5316</th>\n",
              "      <td>87932.13</td>\n",
              "      <td>0</td>\n",
              "      <td>16</td>\n",
              "      <td>32249.56426</td>\n",
              "    </tr>\n",
              "    <tr>\n",
              "      <th>5315</th>\n",
              "      <td>77937.01</td>\n",
              "      <td>0</td>\n",
              "      <td>15</td>\n",
              "      <td>28414.50704</td>\n",
              "    </tr>\n",
              "  </tbody>\n",
              "</table>\n",
              "</div>\n",
              "      <button class=\"colab-df-convert\" onclick=\"convertToInteractive('df-783fda58-4d8c-42b8-8252-07156b256de2')\"\n",
              "              title=\"Convert this dataframe to an interactive table.\"\n",
              "              style=\"display:none;\">\n",
              "\n",
              "  <svg xmlns=\"http://www.w3.org/2000/svg\" height=\"24px\"viewBox=\"0 0 24 24\"\n",
              "       width=\"24px\">\n",
              "    <path d=\"M0 0h24v24H0V0z\" fill=\"none\"/>\n",
              "    <path d=\"M18.56 5.44l.94 2.06.94-2.06 2.06-.94-2.06-.94-.94-2.06-.94 2.06-2.06.94zm-11 1L8.5 8.5l.94-2.06 2.06-.94-2.06-.94L8.5 2.5l-.94 2.06-2.06.94zm10 10l.94 2.06.94-2.06 2.06-.94-2.06-.94-.94-2.06-.94 2.06-2.06.94z\"/><path d=\"M17.41 7.96l-1.37-1.37c-.4-.4-.92-.59-1.43-.59-.52 0-1.04.2-1.43.59L10.3 9.45l-7.72 7.72c-.78.78-.78 2.05 0 2.83L4 21.41c.39.39.9.59 1.41.59.51 0 1.02-.2 1.41-.59l7.78-7.78 2.81-2.81c.8-.78.8-2.07 0-2.86zM5.41 20L4 18.59l7.72-7.72 1.47 1.35L5.41 20z\"/>\n",
              "  </svg>\n",
              "      </button>\n",
              "\n",
              "\n",
              "\n",
              "    <div id=\"df-89250140-d60b-43d9-b796-16dfbe993eae\">\n",
              "      <button class=\"colab-df-quickchart\" onclick=\"quickchart('df-89250140-d60b-43d9-b796-16dfbe993eae')\"\n",
              "              title=\"Suggest charts.\"\n",
              "              style=\"display:none;\">\n",
              "\n",
              "<svg xmlns=\"http://www.w3.org/2000/svg\" height=\"24px\"viewBox=\"0 0 24 24\"\n",
              "     width=\"24px\">\n",
              "    <g>\n",
              "        <path d=\"M19 3H5c-1.1 0-2 .9-2 2v14c0 1.1.9 2 2 2h14c1.1 0 2-.9 2-2V5c0-1.1-.9-2-2-2zM9 17H7v-7h2v7zm4 0h-2V7h2v10zm4 0h-2v-4h2v4z\"/>\n",
              "    </g>\n",
              "</svg>\n",
              "      </button>\n",
              "    </div>\n",
              "\n",
              "<style>\n",
              "  .colab-df-quickchart {\n",
              "    background-color: #E8F0FE;\n",
              "    border: none;\n",
              "    border-radius: 50%;\n",
              "    cursor: pointer;\n",
              "    display: none;\n",
              "    fill: #1967D2;\n",
              "    height: 32px;\n",
              "    padding: 0 0 0 0;\n",
              "    width: 32px;\n",
              "  }\n",
              "\n",
              "  .colab-df-quickchart:hover {\n",
              "    background-color: #E2EBFA;\n",
              "    box-shadow: 0px 1px 2px rgba(60, 64, 67, 0.3), 0px 1px 3px 1px rgba(60, 64, 67, 0.15);\n",
              "    fill: #174EA6;\n",
              "  }\n",
              "\n",
              "  [theme=dark] .colab-df-quickchart {\n",
              "    background-color: #3B4455;\n",
              "    fill: #D2E3FC;\n",
              "  }\n",
              "\n",
              "  [theme=dark] .colab-df-quickchart:hover {\n",
              "    background-color: #434B5C;\n",
              "    box-shadow: 0px 1px 3px 1px rgba(0, 0, 0, 0.15);\n",
              "    filter: drop-shadow(0px 1px 2px rgba(0, 0, 0, 0.3));\n",
              "    fill: #FFFFFF;\n",
              "  }\n",
              "</style>\n",
              "\n",
              "    <script>\n",
              "      async function quickchart(key) {\n",
              "        const containerElement = document.querySelector('#' + key);\n",
              "        const charts = await google.colab.kernel.invokeFunction(\n",
              "            'suggestCharts', [key], {});\n",
              "      }\n",
              "    </script>\n",
              "\n",
              "      <script>\n",
              "\n",
              "function displayQuickchartButton(domScope) {\n",
              "  let quickchartButtonEl =\n",
              "    domScope.querySelector('#df-89250140-d60b-43d9-b796-16dfbe993eae button.colab-df-quickchart');\n",
              "  quickchartButtonEl.style.display =\n",
              "    google.colab.kernel.accessAllowed ? 'block' : 'none';\n",
              "}\n",
              "\n",
              "        displayQuickchartButton(document);\n",
              "      </script>\n",
              "      <style>\n",
              "    .colab-df-container {\n",
              "      display:flex;\n",
              "      flex-wrap:wrap;\n",
              "      gap: 12px;\n",
              "    }\n",
              "\n",
              "    .colab-df-convert {\n",
              "      background-color: #E8F0FE;\n",
              "      border: none;\n",
              "      border-radius: 50%;\n",
              "      cursor: pointer;\n",
              "      display: none;\n",
              "      fill: #1967D2;\n",
              "      height: 32px;\n",
              "      padding: 0 0 0 0;\n",
              "      width: 32px;\n",
              "    }\n",
              "\n",
              "    .colab-df-convert:hover {\n",
              "      background-color: #E2EBFA;\n",
              "      box-shadow: 0px 1px 2px rgba(60, 64, 67, 0.3), 0px 1px 3px 1px rgba(60, 64, 67, 0.15);\n",
              "      fill: #174EA6;\n",
              "    }\n",
              "\n",
              "    [theme=dark] .colab-df-convert {\n",
              "      background-color: #3B4455;\n",
              "      fill: #D2E3FC;\n",
              "    }\n",
              "\n",
              "    [theme=dark] .colab-df-convert:hover {\n",
              "      background-color: #434B5C;\n",
              "      box-shadow: 0px 1px 3px 1px rgba(0, 0, 0, 0.15);\n",
              "      filter: drop-shadow(0px 1px 2px rgba(0, 0, 0, 0.3));\n",
              "      fill: #FFFFFF;\n",
              "    }\n",
              "  </style>\n",
              "\n",
              "      <script>\n",
              "        const buttonEl =\n",
              "          document.querySelector('#df-783fda58-4d8c-42b8-8252-07156b256de2 button.colab-df-convert');\n",
              "        buttonEl.style.display =\n",
              "          google.colab.kernel.accessAllowed ? 'block' : 'none';\n",
              "\n",
              "        async function convertToInteractive(key) {\n",
              "          const element = document.querySelector('#df-783fda58-4d8c-42b8-8252-07156b256de2');\n",
              "          const dataTable =\n",
              "            await google.colab.kernel.invokeFunction('convertToInteractive',\n",
              "                                                     [key], {});\n",
              "          if (!dataTable) return;\n",
              "\n",
              "          const docLinkHtml = 'Like what you see? Visit the ' +\n",
              "            '<a target=\"_blank\" href=https://colab.research.google.com/notebooks/data_table.ipynb>data table notebook</a>'\n",
              "            + ' to learn more about interactive tables.';\n",
              "          element.innerHTML = '';\n",
              "          dataTable['output_type'] = 'display_data';\n",
              "          await google.colab.output.renderOutput(dataTable, element);\n",
              "          const docLink = document.createElement('div');\n",
              "          docLink.innerHTML = docLinkHtml;\n",
              "          element.appendChild(docLink);\n",
              "        }\n",
              "      </script>\n",
              "    </div>\n",
              "  </div>\n"
            ]
          },
          "metadata": {},
          "execution_count": 15
        }
      ]
    },
    {
      "cell_type": "code",
      "source": [
        "cv = KFold(n_splits=10)\n",
        "\n",
        "modelo=DecisionTreeClassifier(max_depth=2)\n",
        "\n",
        "resultados = cross_validate(modelo,x_ordenados,y_ordenados,cv=cv)\n",
        "imprime_resultados(resultados)"
      ],
      "metadata": {
        "colab": {
          "base_uri": "https://localhost:8080/"
        },
        "id": "5v5_e7nHiG7O",
        "outputId": "b3120ace-4602-40db-bbb7-90ab4beaba5f"
      },
      "execution_count": 16,
      "outputs": [
        {
          "output_type": "stream",
          "name": "stdout",
          "text": [
            "Nuestra media es 57.84\n",
            "Nuestro intervalo de confianza es [34.29,81.39]\n"
          ]
        }
      ]
    },
    {
      "cell_type": "code",
      "source": [
        "cv = KFold(n_splits=10, shuffle=True)\n",
        "\n",
        "modelo=DecisionTreeClassifier(max_depth=2)\n",
        "\n",
        "resultados = cross_validate(modelo,x_ordenados,y_ordenados,cv=cv)\n",
        "imprime_resultados(resultados)"
      ],
      "metadata": {
        "colab": {
          "base_uri": "https://localhost:8080/"
        },
        "id": "UUr52IRnjFlZ",
        "outputId": "7ce9f516-a0df-46e0-88e6-e8d27a4afc16"
      },
      "execution_count": 17,
      "outputs": [
        {
          "output_type": "stream",
          "name": "stdout",
          "text": [
            "Nuestra media es 75.79\n",
            "Nuestro intervalo de confianza es [73.06,78.52]\n"
          ]
        }
      ]
    },
    {
      "cell_type": "code",
      "source": [
        "from sklearn.model_selection import StratifiedKFold\n",
        "\n",
        "cv = StratifiedKFold(n_splits=10)\n",
        "\n",
        "modelo=DecisionTreeClassifier(max_depth=2)\n",
        "\n",
        "resultados = cross_validate(modelo,x_ordenados,y_ordenados,cv=cv)\n",
        "imprime_resultados(resultados)"
      ],
      "metadata": {
        "colab": {
          "base_uri": "https://localhost:8080/"
        },
        "id": "9BX9HDi8jQaE",
        "outputId": "0dcdd109-dd29-479d-960b-cea27d47815b"
      },
      "execution_count": 18,
      "outputs": [
        {
          "output_type": "stream",
          "name": "stdout",
          "text": [
            "Nuestra media es 75.78\n",
            "Nuestro intervalo de confianza es [73.83,77.73]\n"
          ]
        }
      ]
    },
    {
      "cell_type": "code",
      "source": [
        "cv = StratifiedKFold(n_splits=10, shuffle=True)\n",
        "\n",
        "modelo=DecisionTreeClassifier(max_depth=2)\n",
        "\n",
        "resultados = cross_validate(modelo,x_ordenados,y_ordenados,cv=cv)\n",
        "imprime_resultados(resultados)"
      ],
      "metadata": {
        "colab": {
          "base_uri": "https://localhost:8080/"
        },
        "id": "VMefuOtijvuu",
        "outputId": "05bef381-9d95-4db6-e000-f979bfe3881f"
      },
      "execution_count": 19,
      "outputs": [
        {
          "output_type": "stream",
          "name": "stdout",
          "text": [
            "Nuestra media es 75.78\n",
            "Nuestro intervalo de confianza es [73.36,78.20]\n"
          ]
        }
      ]
    },
    {
      "cell_type": "markdown",
      "source": [
        "Lo que aprendimos en esta aula:\n",
        "\n",
        "Simular una situación con datos.\n",
        "\n",
        "Ordenar nuestro dataframe utilizando .sort_value(\"vendido\")"
      ],
      "metadata": {
        "id": "jih0OZfHk6HW"
      }
    },
    {
      "cell_type": "code",
      "source": [],
      "metadata": {
        "id": "ldyQ3h82j2Ac"
      },
      "execution_count": null,
      "outputs": []
    }
  ]
}